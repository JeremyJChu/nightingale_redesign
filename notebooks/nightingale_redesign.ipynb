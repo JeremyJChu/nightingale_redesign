{
  "nbformat": 4,
  "nbformat_minor": 0,
  "metadata": {
    "colab": {
      "name": "nightingale-redesign.ipynb",
      "provenance": [],
      "collapsed_sections": [],
      "mount_file_id": "1FctZoOnnHwMoTSN3qR25UwTLEUuz1w2F",
      "authorship_tag": "ABX9TyOWoE0n8r9FPI6P2m9k18lv",
      "include_colab_link": true
    },
    "kernelspec": {
      "name": "python3",
      "display_name": "Python 3"
    }
  },
  "cells": [
    {
      "cell_type": "markdown",
      "metadata": {
        "id": "view-in-github",
        "colab_type": "text"
      },
      "source": [
        "<a href=\"https://colab.research.google.com/github/JeremyJChu/nightingale_redesign/blob/main/notebooks/nightingale_redesign.ipynb\" target=\"_parent\"><img src=\"https://colab.research.google.com/assets/colab-badge.svg\" alt=\"Open In Colab\"/></a>"
      ]
    },
    {
      "cell_type": "markdown",
      "metadata": {
        "id": "5jt_j8WllbZv"
      },
      "source": [
        "# Nightingale Coxcomb Redesign\n",
        "##### Jeremy Chu\n",
        "\n",
        "---\n",
        "Nightingale's Coxcomb was a product of her time and situation. She needed a gripping and engaging chart to prompt her audience into action, bringing to light the need for a Sanitary Commission to reduce the amount of soldier deaths by disease. Her original coxcomb was to highlight the discrepency between disease and wound fatalities during the Crimean War, and how the Sanitary Commission vastly reduced the disease fatality count after its introduction a year into the war.\n",
        "\n",
        "My redesign shifts her audience to the present. No longer are we burdened by the pressing nature of the Crimean War nor do we need her specific coxcomb style to grip people to action. While I toyed with the idea of using nightingale's coxcomb with modern issues like Military veteran suicides vs war fatalities, ultimately I scrapped the idea due to the difficulty in gathering data and also wanting to work on the same data Nightingale did. Thus this redesign is aimed at retelling the circumstances Nightingale found herself in, with a little of my Historian background seeping in. \n",
        "\n",
        "\n",
        "\n",
        "\n",
        "\n",
        "\n",
        "\n",
        "\n",
        "\n",
        "\n"
      ]
    },
    {
      "cell_type": "code",
      "metadata": {
        "id": "X08ysMyE7R-i"
      },
      "source": [
        "# Import the necessary libraries\n",
        "# You will likely need to install a number of these modules/libraries \n",
        "# (e.g. pip install plotly or conda install plotly)\n",
        "import pandas as pd\n",
        "import numpy as np\n",
        "import plotly.graph_objects as go\n",
        "from plotly.subplots import make_subplots\n",
        "import plotly.express as px\n",
        "# import plotly"
      ],
      "execution_count": 16,
      "outputs": []
    },
    {
      "cell_type": "code",
      "metadata": {
        "id": "xRxmgQMp7Tmw"
      },
      "source": [
        "# Use pandas to read in the dataset\n",
        "# Data comes from the R HistData package: https://rdrr.io/cran/HistData/man/HistData-package.html\n",
        "# Thank Michael Friendly (who we read in Week 1) for providing it\n",
        "#df = pd.read_csv(\"drive/MyDrive/Visualizations/Nightingale/Data/nightingale.csv\")\n",
        "df = pd.read_csv(\"https://raw.githubusercontent.com/JeremyJChu/nightingale_redesign/main/data/nightingale.csv\")"
      ],
      "execution_count": 17,
      "outputs": []
    },
    {
      "cell_type": "code",
      "metadata": {
        "id": "LTXGX2SgYLKo"
      },
      "source": [
        "# Making a copy of the dataframe for manipulation\n",
        "df2 = df.copy()"
      ],
      "execution_count": 18,
      "outputs": []
    },
    {
      "cell_type": "markdown",
      "metadata": {
        "id": "OD5MF4YRnUYy"
      },
      "source": [
        "### **Data Manipulation**\n",
        "\n",
        "\n",
        "---\n",
        "I started my process with trying to create more data from what was provided in the Nightingale dataset. If Nightingale wanted to argue that diseases were an issue, I asked myself what would the army look like if there were no disease? I also wanted to know the exact percentage of soldiers who were dying of disease/wounds per month.\n"
      ]
    },
    {
      "cell_type": "code",
      "metadata": {
        "id": "1ttNFNH37hVz"
      },
      "source": [
        "# Let's create some new columns to explore:\n",
        "# A hypothetical non diseased army, in which how strong would the army be if no one died of disease?\n",
        "df2['Non_Diseased_Army'] = df2['Army'] + df2['Disease']\n",
        "\n",
        "# I also want to know what's the percentage of soldiers who died of disease and wounds\n",
        "df2['Disease_Mortality_Rate'] = (df2['Disease']/df2['Army'])*100\n",
        "df2['Wounds_Mortality_Rate'] = (df2['Wounds']/df2['Army'])*100"
      ],
      "execution_count": 19,
      "outputs": []
    },
    {
      "cell_type": "code",
      "metadata": {
        "id": "oklsZsm37ltP"
      },
      "source": [
        "# Making more copies because I wanted to play around with negative values\n",
        "df3 = df2.copy()\n",
        "df5 = df2.copy()"
      ],
      "execution_count": 20,
      "outputs": []
    },
    {
      "cell_type": "markdown",
      "metadata": {
        "id": "L8LLypf1n0Yj"
      },
      "source": [
        "I added this section way later in the project, this was to set up my final redesign, turning some values negative to make better use of space"
      ]
    },
    {
      "cell_type": "code",
      "metadata": {
        "id": "BjD65RWK8Ioo"
      },
      "source": [
        "# df3 will have the disease column be negative\n",
        "df3['Disease'] = -abs(df3['Disease'])\n",
        "# df5 with have the army columns be negative\n",
        "df5['Army'] = -abs(df5['Army'])\n",
        "df5['Non_Diseased_Army'] = -abs(df5['Non_Diseased_Army'])"
      ],
      "execution_count": 21,
      "outputs": []
    },
    {
      "cell_type": "markdown",
      "metadata": {
        "id": "cowfjPde3q6U"
      },
      "source": [
        "### **Draft 1: Disease vs Wounds**\n",
        "\n",
        "---\n",
        "\n"
      ]
    },
    {
      "cell_type": "code",
      "metadata": {
        "colab": {
          "base_uri": "https://localhost:8080/",
          "height": 542
        },
        "id": "2C8MqTJMZUCh",
        "outputId": "174e017c-2f0c-4b85-9092-6092dcad201f"
      },
      "source": [
        "# Pardon the fig naming. I did these on another notebook first before moving them here.\n",
        "# At first I tried my hand at plotting an area graph in which it compared disease deaths vs wounds deaths\n",
        "fig2 = px.area(df, x = \"Date\", y = \"Disease\")\n",
        "fig2.add_trace(go.Scatter(x = df['Date'], y = df['Wounds'], stackgroup='one'))\n",
        "fig2.show()"
      ],
      "execution_count": 22,
      "outputs": [
        {
          "output_type": "display_data",
          "data": {
            "text/html": [
              "<html>\n",
              "<head><meta charset=\"utf-8\" /></head>\n",
              "<body>\n",
              "    <div>\n",
              "            <script src=\"https://cdnjs.cloudflare.com/ajax/libs/mathjax/2.7.5/MathJax.js?config=TeX-AMS-MML_SVG\"></script><script type=\"text/javascript\">if (window.MathJax) {MathJax.Hub.Config({SVG: {font: \"STIX-Web\"}});}</script>\n",
              "                <script type=\"text/javascript\">window.PlotlyConfig = {MathJaxConfig: 'local'};</script>\n",
              "        <script src=\"https://cdn.plot.ly/plotly-latest.min.js\"></script>    \n",
              "            <div id=\"d34f7ea5-d27c-456c-884c-910fd6f40bb2\" class=\"plotly-graph-div\" style=\"height:525px; width:100%;\"></div>\n",
              "            <script type=\"text/javascript\">\n",
              "                \n",
              "                    window.PLOTLYENV=window.PLOTLYENV || {};\n",
              "                    \n",
              "                if (document.getElementById(\"d34f7ea5-d27c-456c-884c-910fd6f40bb2\")) {\n",
              "                    Plotly.newPlot(\n",
              "                        'd34f7ea5-d27c-456c-884c-910fd6f40bb2',\n",
              "                        [{\"hoverlabel\": {\"namelength\": 0}, \"hovertemplate\": \"Date=%{x}<br>Disease=%{y}\", \"legendgroup\": \"\", \"line\": {\"color\": \"#636efa\"}, \"mode\": \"lines\", \"name\": \"\", \"orientation\": \"v\", \"showlegend\": false, \"stackgroup\": \"1\", \"type\": \"scatter\", \"x\": [\"1854-04-01\", \"1854-05-01\", \"1854-06-01\", \"1854-07-01\", \"1854-08-01\", \"1854-09-01\", \"1854-10-01\", \"1854-11-01\", \"1854-12-01\", \"1855-01-01\", \"1855-02-01\", \"1855-03-01\", \"1855-04-01\", \"1855-05-01\", \"1855-06-01\", \"1855-07-01\", \"1855-08-01\", \"1855-09-01\", \"1855-10-01\", \"1855-11-01\", \"1855-12-01\", \"1856-01-01\", \"1856-02-01\", \"1856-03-01\"], \"xaxis\": \"x\", \"y\": [1, 12, 11, 359, 828, 788, 503, 844, 1725, 2761, 2120, 1205, 477, 508, 802, 382, 483, 189, 128, 178, 91, 42, 24, 15], \"yaxis\": \"y\"}, {\"stackgroup\": \"one\", \"type\": \"scatter\", \"x\": [\"1854-04-01\", \"1854-05-01\", \"1854-06-01\", \"1854-07-01\", \"1854-08-01\", \"1854-09-01\", \"1854-10-01\", \"1854-11-01\", \"1854-12-01\", \"1855-01-01\", \"1855-02-01\", \"1855-03-01\", \"1855-04-01\", \"1855-05-01\", \"1855-06-01\", \"1855-07-01\", \"1855-08-01\", \"1855-09-01\", \"1855-10-01\", \"1855-11-01\", \"1855-12-01\", \"1856-01-01\", \"1856-02-01\", \"1856-03-01\"], \"y\": [0, 0, 0, 0, 1, 81, 132, 287, 114, 83, 42, 32, 48, 49, 209, 134, 164, 276, 53, 33, 18, 2, 0, 0]}],\n",
              "                        {\"legend\": {\"tracegroupgap\": 0}, \"margin\": {\"t\": 60}, \"template\": {\"data\": {\"bar\": [{\"error_x\": {\"color\": \"#2a3f5f\"}, \"error_y\": {\"color\": \"#2a3f5f\"}, \"marker\": {\"line\": {\"color\": \"#E5ECF6\", \"width\": 0.5}}, \"type\": \"bar\"}], \"barpolar\": [{\"marker\": {\"line\": {\"color\": \"#E5ECF6\", \"width\": 0.5}}, \"type\": \"barpolar\"}], \"carpet\": [{\"aaxis\": {\"endlinecolor\": \"#2a3f5f\", \"gridcolor\": \"white\", \"linecolor\": \"white\", \"minorgridcolor\": \"white\", \"startlinecolor\": \"#2a3f5f\"}, \"baxis\": {\"endlinecolor\": \"#2a3f5f\", \"gridcolor\": \"white\", \"linecolor\": \"white\", \"minorgridcolor\": \"white\", \"startlinecolor\": \"#2a3f5f\"}, \"type\": \"carpet\"}], \"choropleth\": [{\"colorbar\": {\"outlinewidth\": 0, \"ticks\": \"\"}, \"type\": \"choropleth\"}], \"contour\": [{\"colorbar\": {\"outlinewidth\": 0, \"ticks\": \"\"}, \"colorscale\": [[0.0, \"#0d0887\"], [0.1111111111111111, \"#46039f\"], [0.2222222222222222, \"#7201a8\"], [0.3333333333333333, \"#9c179e\"], [0.4444444444444444, \"#bd3786\"], [0.5555555555555556, \"#d8576b\"], [0.6666666666666666, \"#ed7953\"], [0.7777777777777778, \"#fb9f3a\"], [0.8888888888888888, \"#fdca26\"], [1.0, \"#f0f921\"]], \"type\": \"contour\"}], \"contourcarpet\": [{\"colorbar\": {\"outlinewidth\": 0, \"ticks\": \"\"}, \"type\": \"contourcarpet\"}], \"heatmap\": [{\"colorbar\": {\"outlinewidth\": 0, \"ticks\": \"\"}, \"colorscale\": [[0.0, \"#0d0887\"], [0.1111111111111111, \"#46039f\"], [0.2222222222222222, \"#7201a8\"], [0.3333333333333333, \"#9c179e\"], [0.4444444444444444, \"#bd3786\"], [0.5555555555555556, \"#d8576b\"], [0.6666666666666666, \"#ed7953\"], [0.7777777777777778, \"#fb9f3a\"], [0.8888888888888888, \"#fdca26\"], [1.0, \"#f0f921\"]], \"type\": \"heatmap\"}], \"heatmapgl\": [{\"colorbar\": {\"outlinewidth\": 0, \"ticks\": \"\"}, \"colorscale\": [[0.0, \"#0d0887\"], [0.1111111111111111, \"#46039f\"], [0.2222222222222222, \"#7201a8\"], [0.3333333333333333, \"#9c179e\"], [0.4444444444444444, \"#bd3786\"], [0.5555555555555556, \"#d8576b\"], [0.6666666666666666, \"#ed7953\"], [0.7777777777777778, \"#fb9f3a\"], [0.8888888888888888, \"#fdca26\"], [1.0, \"#f0f921\"]], \"type\": \"heatmapgl\"}], \"histogram\": [{\"marker\": {\"colorbar\": {\"outlinewidth\": 0, \"ticks\": \"\"}}, \"type\": \"histogram\"}], \"histogram2d\": [{\"colorbar\": {\"outlinewidth\": 0, \"ticks\": \"\"}, \"colorscale\": [[0.0, \"#0d0887\"], [0.1111111111111111, \"#46039f\"], [0.2222222222222222, \"#7201a8\"], [0.3333333333333333, \"#9c179e\"], [0.4444444444444444, \"#bd3786\"], [0.5555555555555556, \"#d8576b\"], [0.6666666666666666, \"#ed7953\"], [0.7777777777777778, \"#fb9f3a\"], [0.8888888888888888, \"#fdca26\"], [1.0, \"#f0f921\"]], \"type\": \"histogram2d\"}], \"histogram2dcontour\": [{\"colorbar\": {\"outlinewidth\": 0, \"ticks\": \"\"}, \"colorscale\": [[0.0, \"#0d0887\"], [0.1111111111111111, \"#46039f\"], [0.2222222222222222, \"#7201a8\"], [0.3333333333333333, \"#9c179e\"], [0.4444444444444444, \"#bd3786\"], [0.5555555555555556, \"#d8576b\"], [0.6666666666666666, \"#ed7953\"], [0.7777777777777778, \"#fb9f3a\"], [0.8888888888888888, \"#fdca26\"], [1.0, \"#f0f921\"]], \"type\": \"histogram2dcontour\"}], \"mesh3d\": [{\"colorbar\": {\"outlinewidth\": 0, \"ticks\": \"\"}, \"type\": \"mesh3d\"}], \"parcoords\": [{\"line\": {\"colorbar\": {\"outlinewidth\": 0, \"ticks\": \"\"}}, \"type\": \"parcoords\"}], \"pie\": [{\"automargin\": true, \"type\": \"pie\"}], \"scatter\": [{\"marker\": {\"colorbar\": {\"outlinewidth\": 0, \"ticks\": \"\"}}, \"type\": \"scatter\"}], \"scatter3d\": [{\"line\": {\"colorbar\": {\"outlinewidth\": 0, \"ticks\": \"\"}}, \"marker\": {\"colorbar\": {\"outlinewidth\": 0, \"ticks\": \"\"}}, \"type\": \"scatter3d\"}], \"scattercarpet\": [{\"marker\": {\"colorbar\": {\"outlinewidth\": 0, \"ticks\": \"\"}}, \"type\": \"scattercarpet\"}], \"scattergeo\": [{\"marker\": {\"colorbar\": {\"outlinewidth\": 0, \"ticks\": \"\"}}, \"type\": \"scattergeo\"}], \"scattergl\": [{\"marker\": {\"colorbar\": {\"outlinewidth\": 0, \"ticks\": \"\"}}, \"type\": \"scattergl\"}], \"scattermapbox\": [{\"marker\": {\"colorbar\": {\"outlinewidth\": 0, \"ticks\": \"\"}}, \"type\": \"scattermapbox\"}], \"scatterpolar\": [{\"marker\": {\"colorbar\": {\"outlinewidth\": 0, \"ticks\": \"\"}}, \"type\": \"scatterpolar\"}], \"scatterpolargl\": [{\"marker\": {\"colorbar\": {\"outlinewidth\": 0, \"ticks\": \"\"}}, \"type\": \"scatterpolargl\"}], \"scatterternary\": [{\"marker\": {\"colorbar\": {\"outlinewidth\": 0, \"ticks\": \"\"}}, \"type\": \"scatterternary\"}], \"surface\": [{\"colorbar\": {\"outlinewidth\": 0, \"ticks\": \"\"}, \"colorscale\": [[0.0, \"#0d0887\"], [0.1111111111111111, \"#46039f\"], [0.2222222222222222, \"#7201a8\"], [0.3333333333333333, \"#9c179e\"], [0.4444444444444444, \"#bd3786\"], [0.5555555555555556, \"#d8576b\"], [0.6666666666666666, \"#ed7953\"], [0.7777777777777778, \"#fb9f3a\"], [0.8888888888888888, \"#fdca26\"], [1.0, \"#f0f921\"]], \"type\": \"surface\"}], \"table\": [{\"cells\": {\"fill\": {\"color\": \"#EBF0F8\"}, \"line\": {\"color\": \"white\"}}, \"header\": {\"fill\": {\"color\": \"#C8D4E3\"}, \"line\": {\"color\": \"white\"}}, \"type\": \"table\"}]}, \"layout\": {\"annotationdefaults\": {\"arrowcolor\": \"#2a3f5f\", \"arrowhead\": 0, \"arrowwidth\": 1}, \"coloraxis\": {\"colorbar\": {\"outlinewidth\": 0, \"ticks\": \"\"}}, \"colorscale\": {\"diverging\": [[0, \"#8e0152\"], [0.1, \"#c51b7d\"], [0.2, \"#de77ae\"], [0.3, \"#f1b6da\"], [0.4, \"#fde0ef\"], [0.5, \"#f7f7f7\"], [0.6, \"#e6f5d0\"], [0.7, \"#b8e186\"], [0.8, \"#7fbc41\"], [0.9, \"#4d9221\"], [1, \"#276419\"]], \"sequential\": [[0.0, \"#0d0887\"], [0.1111111111111111, \"#46039f\"], [0.2222222222222222, \"#7201a8\"], [0.3333333333333333, \"#9c179e\"], [0.4444444444444444, \"#bd3786\"], [0.5555555555555556, \"#d8576b\"], [0.6666666666666666, \"#ed7953\"], [0.7777777777777778, \"#fb9f3a\"], [0.8888888888888888, \"#fdca26\"], [1.0, \"#f0f921\"]], \"sequentialminus\": [[0.0, \"#0d0887\"], [0.1111111111111111, \"#46039f\"], [0.2222222222222222, \"#7201a8\"], [0.3333333333333333, \"#9c179e\"], [0.4444444444444444, \"#bd3786\"], [0.5555555555555556, \"#d8576b\"], [0.6666666666666666, \"#ed7953\"], [0.7777777777777778, \"#fb9f3a\"], [0.8888888888888888, \"#fdca26\"], [1.0, \"#f0f921\"]]}, \"colorway\": [\"#636efa\", \"#EF553B\", \"#00cc96\", \"#ab63fa\", \"#FFA15A\", \"#19d3f3\", \"#FF6692\", \"#B6E880\", \"#FF97FF\", \"#FECB52\"], \"font\": {\"color\": \"#2a3f5f\"}, \"geo\": {\"bgcolor\": \"white\", \"lakecolor\": \"white\", \"landcolor\": \"#E5ECF6\", \"showlakes\": true, \"showland\": true, \"subunitcolor\": \"white\"}, \"hoverlabel\": {\"align\": \"left\"}, \"hovermode\": \"closest\", \"mapbox\": {\"style\": \"light\"}, \"paper_bgcolor\": \"white\", \"plot_bgcolor\": \"#E5ECF6\", \"polar\": {\"angularaxis\": {\"gridcolor\": \"white\", \"linecolor\": \"white\", \"ticks\": \"\"}, \"bgcolor\": \"#E5ECF6\", \"radialaxis\": {\"gridcolor\": \"white\", \"linecolor\": \"white\", \"ticks\": \"\"}}, \"scene\": {\"xaxis\": {\"backgroundcolor\": \"#E5ECF6\", \"gridcolor\": \"white\", \"gridwidth\": 2, \"linecolor\": \"white\", \"showbackground\": true, \"ticks\": \"\", \"zerolinecolor\": \"white\"}, \"yaxis\": {\"backgroundcolor\": \"#E5ECF6\", \"gridcolor\": \"white\", \"gridwidth\": 2, \"linecolor\": \"white\", \"showbackground\": true, \"ticks\": \"\", \"zerolinecolor\": \"white\"}, \"zaxis\": {\"backgroundcolor\": \"#E5ECF6\", \"gridcolor\": \"white\", \"gridwidth\": 2, \"linecolor\": \"white\", \"showbackground\": true, \"ticks\": \"\", \"zerolinecolor\": \"white\"}}, \"shapedefaults\": {\"line\": {\"color\": \"#2a3f5f\"}}, \"ternary\": {\"aaxis\": {\"gridcolor\": \"white\", \"linecolor\": \"white\", \"ticks\": \"\"}, \"baxis\": {\"gridcolor\": \"white\", \"linecolor\": \"white\", \"ticks\": \"\"}, \"bgcolor\": \"#E5ECF6\", \"caxis\": {\"gridcolor\": \"white\", \"linecolor\": \"white\", \"ticks\": \"\"}}, \"title\": {\"x\": 0.05}, \"xaxis\": {\"automargin\": true, \"gridcolor\": \"white\", \"linecolor\": \"white\", \"ticks\": \"\", \"title\": {\"standoff\": 15}, \"zerolinecolor\": \"white\", \"zerolinewidth\": 2}, \"yaxis\": {\"automargin\": true, \"gridcolor\": \"white\", \"linecolor\": \"white\", \"ticks\": \"\", \"title\": {\"standoff\": 15}, \"zerolinecolor\": \"white\", \"zerolinewidth\": 2}}}, \"xaxis\": {\"anchor\": \"y\", \"domain\": [0.0, 1.0], \"title\": {\"text\": \"Date\"}}, \"yaxis\": {\"anchor\": \"x\", \"domain\": [0.0, 1.0], \"title\": {\"text\": \"Disease\"}}},\n",
              "                        {\"responsive\": true}\n",
              "                    ).then(function(){\n",
              "                            \n",
              "var gd = document.getElementById('d34f7ea5-d27c-456c-884c-910fd6f40bb2');\n",
              "var x = new MutationObserver(function (mutations, observer) {{\n",
              "        var display = window.getComputedStyle(gd).display;\n",
              "        if (!display || display === 'none') {{\n",
              "            console.log([gd, 'removed!']);\n",
              "            Plotly.purge(gd);\n",
              "            observer.disconnect();\n",
              "        }}\n",
              "}});\n",
              "\n",
              "// Listen for the removal of the full notebook cells\n",
              "var notebookContainer = gd.closest('#notebook-container');\n",
              "if (notebookContainer) {{\n",
              "    x.observe(notebookContainer, {childList: true});\n",
              "}}\n",
              "\n",
              "// Listen for the clearing of the current output cell\n",
              "var outputEl = gd.closest('.output');\n",
              "if (outputEl) {{\n",
              "    x.observe(outputEl, {childList: true});\n",
              "}}\n",
              "\n",
              "                        })\n",
              "                };\n",
              "                \n",
              "            </script>\n",
              "        </div>\n",
              "</body>\n",
              "</html>"
            ]
          },
          "metadata": {
            "tags": []
          }
        }
      ]
    },
    {
      "cell_type": "markdown",
      "metadata": {
        "id": "RcLdZXbdITCT"
      },
      "source": [
        "**Thoughts** \n",
        "\n",
        "While this showed the discrepency between disease and wound fatalities, it really was too simple for my tastes. When placed in comparison to Nightingale's coxcomb, no one would look at this one. They both conveyed the same information, but this was just boring. "
      ]
    },
    {
      "cell_type": "markdown",
      "metadata": {
        "id": "wDaHPV9a32lq"
      },
      "source": [
        "### **Draft 2: Real Army vs Non-Diseased Army**\n",
        "\n",
        "---\n",
        "\n"
      ]
    },
    {
      "cell_type": "code",
      "metadata": {
        "colab": {
          "base_uri": "https://localhost:8080/",
          "height": 542
        },
        "id": "nBG2Zs7jZ2k_",
        "outputId": "d05dbee3-dc96-4031-be85-f6c08d949325"
      },
      "source": [
        "# Since draft 1 was too simple and boring for my taste, so I tried seeing what my army vs hypothetical army would look like\n",
        "fig3 = px.area(df2, x = \"Date\", y = \"Army\")\n",
        "fig3.add_trace(go.Scatter(x = df2['Date'], y = df2['Non_Diseased_Army'], stackgroup='one'))\n",
        "fig3.show()\n",
        "\n",
        "# Not that much difference. I wasn't sure what to do with this."
      ],
      "execution_count": 23,
      "outputs": [
        {
          "output_type": "display_data",
          "data": {
            "text/html": [
              "<html>\n",
              "<head><meta charset=\"utf-8\" /></head>\n",
              "<body>\n",
              "    <div>\n",
              "            <script src=\"https://cdnjs.cloudflare.com/ajax/libs/mathjax/2.7.5/MathJax.js?config=TeX-AMS-MML_SVG\"></script><script type=\"text/javascript\">if (window.MathJax) {MathJax.Hub.Config({SVG: {font: \"STIX-Web\"}});}</script>\n",
              "                <script type=\"text/javascript\">window.PlotlyConfig = {MathJaxConfig: 'local'};</script>\n",
              "        <script src=\"https://cdn.plot.ly/plotly-latest.min.js\"></script>    \n",
              "            <div id=\"af8e7603-133c-4d42-910b-1ee7bd29ef08\" class=\"plotly-graph-div\" style=\"height:525px; width:100%;\"></div>\n",
              "            <script type=\"text/javascript\">\n",
              "                \n",
              "                    window.PLOTLYENV=window.PLOTLYENV || {};\n",
              "                    \n",
              "                if (document.getElementById(\"af8e7603-133c-4d42-910b-1ee7bd29ef08\")) {\n",
              "                    Plotly.newPlot(\n",
              "                        'af8e7603-133c-4d42-910b-1ee7bd29ef08',\n",
              "                        [{\"hoverlabel\": {\"namelength\": 0}, \"hovertemplate\": \"Date=%{x}<br>Army=%{y}\", \"legendgroup\": \"\", \"line\": {\"color\": \"#636efa\"}, \"mode\": \"lines\", \"name\": \"\", \"orientation\": \"v\", \"showlegend\": false, \"stackgroup\": \"1\", \"type\": \"scatter\", \"x\": [\"1854-04-01\", \"1854-05-01\", \"1854-06-01\", \"1854-07-01\", \"1854-08-01\", \"1854-09-01\", \"1854-10-01\", \"1854-11-01\", \"1854-12-01\", \"1855-01-01\", \"1855-02-01\", \"1855-03-01\", \"1855-04-01\", \"1855-05-01\", \"1855-06-01\", \"1855-07-01\", \"1855-08-01\", \"1855-09-01\", \"1855-10-01\", \"1855-11-01\", \"1855-12-01\", \"1856-01-01\", \"1856-02-01\", \"1856-03-01\"], \"xaxis\": \"x\", \"y\": [8571, 23333, 28333, 28722, 30246, 30290, 30643, 29736, 32779, 32393, 30919, 30107, 32252, 35473, 38863, 42647, 44614, 47751, 46852, 37853, 43217, 44212, 43485, 46140], \"yaxis\": \"y\"}, {\"stackgroup\": \"one\", \"type\": \"scatter\", \"x\": [\"1854-04-01\", \"1854-05-01\", \"1854-06-01\", \"1854-07-01\", \"1854-08-01\", \"1854-09-01\", \"1854-10-01\", \"1854-11-01\", \"1854-12-01\", \"1855-01-01\", \"1855-02-01\", \"1855-03-01\", \"1855-04-01\", \"1855-05-01\", \"1855-06-01\", \"1855-07-01\", \"1855-08-01\", \"1855-09-01\", \"1855-10-01\", \"1855-11-01\", \"1855-12-01\", \"1856-01-01\", \"1856-02-01\", \"1856-03-01\"], \"y\": [8572, 23345, 28344, 29081, 31074, 31078, 31146, 30580, 34504, 35154, 33039, 31312, 32729, 35981, 39665, 43029, 45097, 47940, 46980, 38031, 43308, 44254, 43509, 46155]}],\n",
              "                        {\"legend\": {\"tracegroupgap\": 0}, \"margin\": {\"t\": 60}, \"template\": {\"data\": {\"bar\": [{\"error_x\": {\"color\": \"#2a3f5f\"}, \"error_y\": {\"color\": \"#2a3f5f\"}, \"marker\": {\"line\": {\"color\": \"#E5ECF6\", \"width\": 0.5}}, \"type\": \"bar\"}], \"barpolar\": [{\"marker\": {\"line\": {\"color\": \"#E5ECF6\", \"width\": 0.5}}, \"type\": \"barpolar\"}], \"carpet\": [{\"aaxis\": {\"endlinecolor\": \"#2a3f5f\", \"gridcolor\": \"white\", \"linecolor\": \"white\", \"minorgridcolor\": \"white\", \"startlinecolor\": \"#2a3f5f\"}, \"baxis\": {\"endlinecolor\": \"#2a3f5f\", \"gridcolor\": \"white\", \"linecolor\": \"white\", \"minorgridcolor\": \"white\", \"startlinecolor\": \"#2a3f5f\"}, \"type\": \"carpet\"}], \"choropleth\": [{\"colorbar\": {\"outlinewidth\": 0, \"ticks\": \"\"}, \"type\": \"choropleth\"}], \"contour\": [{\"colorbar\": {\"outlinewidth\": 0, \"ticks\": \"\"}, \"colorscale\": [[0.0, \"#0d0887\"], [0.1111111111111111, \"#46039f\"], [0.2222222222222222, \"#7201a8\"], [0.3333333333333333, \"#9c179e\"], [0.4444444444444444, \"#bd3786\"], [0.5555555555555556, \"#d8576b\"], [0.6666666666666666, \"#ed7953\"], [0.7777777777777778, \"#fb9f3a\"], [0.8888888888888888, \"#fdca26\"], [1.0, \"#f0f921\"]], \"type\": \"contour\"}], \"contourcarpet\": [{\"colorbar\": {\"outlinewidth\": 0, \"ticks\": \"\"}, \"type\": \"contourcarpet\"}], \"heatmap\": [{\"colorbar\": {\"outlinewidth\": 0, \"ticks\": \"\"}, \"colorscale\": [[0.0, \"#0d0887\"], [0.1111111111111111, \"#46039f\"], [0.2222222222222222, \"#7201a8\"], [0.3333333333333333, \"#9c179e\"], [0.4444444444444444, \"#bd3786\"], [0.5555555555555556, \"#d8576b\"], [0.6666666666666666, \"#ed7953\"], [0.7777777777777778, \"#fb9f3a\"], [0.8888888888888888, \"#fdca26\"], [1.0, \"#f0f921\"]], \"type\": \"heatmap\"}], \"heatmapgl\": [{\"colorbar\": {\"outlinewidth\": 0, \"ticks\": \"\"}, \"colorscale\": [[0.0, \"#0d0887\"], [0.1111111111111111, \"#46039f\"], [0.2222222222222222, \"#7201a8\"], [0.3333333333333333, \"#9c179e\"], [0.4444444444444444, \"#bd3786\"], [0.5555555555555556, \"#d8576b\"], [0.6666666666666666, \"#ed7953\"], [0.7777777777777778, \"#fb9f3a\"], [0.8888888888888888, \"#fdca26\"], [1.0, \"#f0f921\"]], \"type\": \"heatmapgl\"}], \"histogram\": [{\"marker\": {\"colorbar\": {\"outlinewidth\": 0, \"ticks\": \"\"}}, \"type\": \"histogram\"}], \"histogram2d\": [{\"colorbar\": {\"outlinewidth\": 0, \"ticks\": \"\"}, \"colorscale\": [[0.0, \"#0d0887\"], [0.1111111111111111, \"#46039f\"], [0.2222222222222222, \"#7201a8\"], [0.3333333333333333, \"#9c179e\"], [0.4444444444444444, \"#bd3786\"], [0.5555555555555556, \"#d8576b\"], [0.6666666666666666, \"#ed7953\"], [0.7777777777777778, \"#fb9f3a\"], [0.8888888888888888, \"#fdca26\"], [1.0, \"#f0f921\"]], \"type\": \"histogram2d\"}], \"histogram2dcontour\": [{\"colorbar\": {\"outlinewidth\": 0, \"ticks\": \"\"}, \"colorscale\": [[0.0, \"#0d0887\"], [0.1111111111111111, \"#46039f\"], [0.2222222222222222, \"#7201a8\"], [0.3333333333333333, \"#9c179e\"], [0.4444444444444444, \"#bd3786\"], [0.5555555555555556, \"#d8576b\"], [0.6666666666666666, \"#ed7953\"], [0.7777777777777778, \"#fb9f3a\"], [0.8888888888888888, \"#fdca26\"], [1.0, \"#f0f921\"]], \"type\": \"histogram2dcontour\"}], \"mesh3d\": [{\"colorbar\": {\"outlinewidth\": 0, \"ticks\": \"\"}, \"type\": \"mesh3d\"}], \"parcoords\": [{\"line\": {\"colorbar\": {\"outlinewidth\": 0, \"ticks\": \"\"}}, \"type\": \"parcoords\"}], \"pie\": [{\"automargin\": true, \"type\": \"pie\"}], \"scatter\": [{\"marker\": {\"colorbar\": {\"outlinewidth\": 0, \"ticks\": \"\"}}, \"type\": \"scatter\"}], \"scatter3d\": [{\"line\": {\"colorbar\": {\"outlinewidth\": 0, \"ticks\": \"\"}}, \"marker\": {\"colorbar\": {\"outlinewidth\": 0, \"ticks\": \"\"}}, \"type\": \"scatter3d\"}], \"scattercarpet\": [{\"marker\": {\"colorbar\": {\"outlinewidth\": 0, \"ticks\": \"\"}}, \"type\": \"scattercarpet\"}], \"scattergeo\": [{\"marker\": {\"colorbar\": {\"outlinewidth\": 0, \"ticks\": \"\"}}, \"type\": \"scattergeo\"}], \"scattergl\": [{\"marker\": {\"colorbar\": {\"outlinewidth\": 0, \"ticks\": \"\"}}, \"type\": \"scattergl\"}], \"scattermapbox\": [{\"marker\": {\"colorbar\": {\"outlinewidth\": 0, \"ticks\": \"\"}}, \"type\": \"scattermapbox\"}], \"scatterpolar\": [{\"marker\": {\"colorbar\": {\"outlinewidth\": 0, \"ticks\": \"\"}}, \"type\": \"scatterpolar\"}], \"scatterpolargl\": [{\"marker\": {\"colorbar\": {\"outlinewidth\": 0, \"ticks\": \"\"}}, \"type\": \"scatterpolargl\"}], \"scatterternary\": [{\"marker\": {\"colorbar\": {\"outlinewidth\": 0, \"ticks\": \"\"}}, \"type\": \"scatterternary\"}], \"surface\": [{\"colorbar\": {\"outlinewidth\": 0, \"ticks\": \"\"}, \"colorscale\": [[0.0, \"#0d0887\"], [0.1111111111111111, \"#46039f\"], [0.2222222222222222, \"#7201a8\"], [0.3333333333333333, \"#9c179e\"], [0.4444444444444444, \"#bd3786\"], [0.5555555555555556, \"#d8576b\"], [0.6666666666666666, \"#ed7953\"], [0.7777777777777778, \"#fb9f3a\"], [0.8888888888888888, \"#fdca26\"], [1.0, \"#f0f921\"]], \"type\": \"surface\"}], \"table\": [{\"cells\": {\"fill\": {\"color\": \"#EBF0F8\"}, \"line\": {\"color\": \"white\"}}, \"header\": {\"fill\": {\"color\": \"#C8D4E3\"}, \"line\": {\"color\": \"white\"}}, \"type\": \"table\"}]}, \"layout\": {\"annotationdefaults\": {\"arrowcolor\": \"#2a3f5f\", \"arrowhead\": 0, \"arrowwidth\": 1}, \"coloraxis\": {\"colorbar\": {\"outlinewidth\": 0, \"ticks\": \"\"}}, \"colorscale\": {\"diverging\": [[0, \"#8e0152\"], [0.1, \"#c51b7d\"], [0.2, \"#de77ae\"], [0.3, \"#f1b6da\"], [0.4, \"#fde0ef\"], [0.5, \"#f7f7f7\"], [0.6, \"#e6f5d0\"], [0.7, \"#b8e186\"], [0.8, \"#7fbc41\"], [0.9, \"#4d9221\"], [1, \"#276419\"]], \"sequential\": [[0.0, \"#0d0887\"], [0.1111111111111111, \"#46039f\"], [0.2222222222222222, \"#7201a8\"], [0.3333333333333333, \"#9c179e\"], [0.4444444444444444, \"#bd3786\"], [0.5555555555555556, \"#d8576b\"], [0.6666666666666666, \"#ed7953\"], [0.7777777777777778, \"#fb9f3a\"], [0.8888888888888888, \"#fdca26\"], [1.0, \"#f0f921\"]], \"sequentialminus\": [[0.0, \"#0d0887\"], [0.1111111111111111, \"#46039f\"], [0.2222222222222222, \"#7201a8\"], [0.3333333333333333, \"#9c179e\"], [0.4444444444444444, \"#bd3786\"], [0.5555555555555556, \"#d8576b\"], [0.6666666666666666, \"#ed7953\"], [0.7777777777777778, \"#fb9f3a\"], [0.8888888888888888, \"#fdca26\"], [1.0, \"#f0f921\"]]}, \"colorway\": [\"#636efa\", \"#EF553B\", \"#00cc96\", \"#ab63fa\", \"#FFA15A\", \"#19d3f3\", \"#FF6692\", \"#B6E880\", \"#FF97FF\", \"#FECB52\"], \"font\": {\"color\": \"#2a3f5f\"}, \"geo\": {\"bgcolor\": \"white\", \"lakecolor\": \"white\", \"landcolor\": \"#E5ECF6\", \"showlakes\": true, \"showland\": true, \"subunitcolor\": \"white\"}, \"hoverlabel\": {\"align\": \"left\"}, \"hovermode\": \"closest\", \"mapbox\": {\"style\": \"light\"}, \"paper_bgcolor\": \"white\", \"plot_bgcolor\": \"#E5ECF6\", \"polar\": {\"angularaxis\": {\"gridcolor\": \"white\", \"linecolor\": \"white\", \"ticks\": \"\"}, \"bgcolor\": \"#E5ECF6\", \"radialaxis\": {\"gridcolor\": \"white\", \"linecolor\": \"white\", \"ticks\": \"\"}}, \"scene\": {\"xaxis\": {\"backgroundcolor\": \"#E5ECF6\", \"gridcolor\": \"white\", \"gridwidth\": 2, \"linecolor\": \"white\", \"showbackground\": true, \"ticks\": \"\", \"zerolinecolor\": \"white\"}, \"yaxis\": {\"backgroundcolor\": \"#E5ECF6\", \"gridcolor\": \"white\", \"gridwidth\": 2, \"linecolor\": \"white\", \"showbackground\": true, \"ticks\": \"\", \"zerolinecolor\": \"white\"}, \"zaxis\": {\"backgroundcolor\": \"#E5ECF6\", \"gridcolor\": \"white\", \"gridwidth\": 2, \"linecolor\": \"white\", \"showbackground\": true, \"ticks\": \"\", \"zerolinecolor\": \"white\"}}, \"shapedefaults\": {\"line\": {\"color\": \"#2a3f5f\"}}, \"ternary\": {\"aaxis\": {\"gridcolor\": \"white\", \"linecolor\": \"white\", \"ticks\": \"\"}, \"baxis\": {\"gridcolor\": \"white\", \"linecolor\": \"white\", \"ticks\": \"\"}, \"bgcolor\": \"#E5ECF6\", \"caxis\": {\"gridcolor\": \"white\", \"linecolor\": \"white\", \"ticks\": \"\"}}, \"title\": {\"x\": 0.05}, \"xaxis\": {\"automargin\": true, \"gridcolor\": \"white\", \"linecolor\": \"white\", \"ticks\": \"\", \"title\": {\"standoff\": 15}, \"zerolinecolor\": \"white\", \"zerolinewidth\": 2}, \"yaxis\": {\"automargin\": true, \"gridcolor\": \"white\", \"linecolor\": \"white\", \"ticks\": \"\", \"title\": {\"standoff\": 15}, \"zerolinecolor\": \"white\", \"zerolinewidth\": 2}}}, \"xaxis\": {\"anchor\": \"y\", \"domain\": [0.0, 1.0], \"title\": {\"text\": \"Date\"}}, \"yaxis\": {\"anchor\": \"x\", \"domain\": [0.0, 1.0], \"title\": {\"text\": \"Army\"}}},\n",
              "                        {\"responsive\": true}\n",
              "                    ).then(function(){\n",
              "                            \n",
              "var gd = document.getElementById('af8e7603-133c-4d42-910b-1ee7bd29ef08');\n",
              "var x = new MutationObserver(function (mutations, observer) {{\n",
              "        var display = window.getComputedStyle(gd).display;\n",
              "        if (!display || display === 'none') {{\n",
              "            console.log([gd, 'removed!']);\n",
              "            Plotly.purge(gd);\n",
              "            observer.disconnect();\n",
              "        }}\n",
              "}});\n",
              "\n",
              "// Listen for the removal of the full notebook cells\n",
              "var notebookContainer = gd.closest('#notebook-container');\n",
              "if (notebookContainer) {{\n",
              "    x.observe(notebookContainer, {childList: true});\n",
              "}}\n",
              "\n",
              "// Listen for the clearing of the current output cell\n",
              "var outputEl = gd.closest('.output');\n",
              "if (outputEl) {{\n",
              "    x.observe(outputEl, {childList: true});\n",
              "}}\n",
              "\n",
              "                        })\n",
              "                };\n",
              "                \n",
              "            </script>\n",
              "        </div>\n",
              "</body>\n",
              "</html>"
            ]
          },
          "metadata": {
            "tags": []
          }
        }
      ]
    },
    {
      "cell_type": "markdown",
      "metadata": {
        "id": "-8co6B6rIlPx"
      },
      "source": [
        "**Thoughts**\n",
        "\n",
        "Changing the angle of observation could have been a viable option, except as you can see above, there's barely any difference in the two. Anyone looking at this graph would just question why it was made in the first place. But what this did give me was the information that diseases didn't matter as much as Nightingale made it up to be, which would soon play out in my final draft."
      ]
    },
    {
      "cell_type": "markdown",
      "metadata": {
        "id": "3rU8LIxY39a7"
      },
      "source": [
        "### **Draft 3: Playing with Negatives**\n",
        "\n",
        "---\n",
        "\n"
      ]
    },
    {
      "cell_type": "code",
      "metadata": {
        "colab": {
          "base_uri": "https://localhost:8080/",
          "height": 542
        },
        "id": "0Ip2uIVD8LOe",
        "outputId": "fd69a27c-62d8-42a1-c2bf-c33683410459"
      },
      "source": [
        "# I decided to turn some of the data into negatives, and plot that. \n",
        "fig = px.area(df2, x = \"Date\", y = \"Wounds\")#, animation_frame=\"Date\")\n",
        "fig.add_trace(go.Scatter(x = df3['Date'], y = df3['Disease'], stackgroup=\"one\"))\n",
        "\n",
        "# Adding a line that shows when the Sanitation Commission came in\n",
        "fig.add_shape(type=\"line\",\n",
        "              x0 = \"1855-04-01\", y0 = -2900, x1 = \"1855-04-01\", y1 = 2000,\n",
        "              line=dict(color=\"Red\",width=3, dash=\"dot\"))\n",
        "\n",
        "# Adding some before and after text too\n",
        "fig.add_trace(go.Scatter(\n",
        "    x=[\"1855-10-01\"],\n",
        "    y=[-1500],\n",
        "    text=[\"After Sanitation Commission\"],\n",
        "    mode=\"text\",\n",
        "))\n",
        "fig.add_trace(go.Scatter(\n",
        "    x=[\"1854-09-01\"],\n",
        "    y=[1000],\n",
        "    text=[\"Before Sanitation Commission\"],\n",
        "    mode=\"text\",\n",
        "))\n",
        "\n",
        "# Updating the y axis rage\n",
        "fig.update_yaxes(range=[-2900,2000])\n",
        "fig.show()\n",
        "\n",
        "# The end result was something I was planning on calling \"The Hidden Costs of War,\" the tip of the iceberg style image. \n",
        "# But I still felt it wasn't creative enough."
      ],
      "execution_count": 24,
      "outputs": [
        {
          "output_type": "display_data",
          "data": {
            "text/html": [
              "<html>\n",
              "<head><meta charset=\"utf-8\" /></head>\n",
              "<body>\n",
              "    <div>\n",
              "            <script src=\"https://cdnjs.cloudflare.com/ajax/libs/mathjax/2.7.5/MathJax.js?config=TeX-AMS-MML_SVG\"></script><script type=\"text/javascript\">if (window.MathJax) {MathJax.Hub.Config({SVG: {font: \"STIX-Web\"}});}</script>\n",
              "                <script type=\"text/javascript\">window.PlotlyConfig = {MathJaxConfig: 'local'};</script>\n",
              "        <script src=\"https://cdn.plot.ly/plotly-latest.min.js\"></script>    \n",
              "            <div id=\"a5a5a340-d31e-4912-bfe2-7797109791a7\" class=\"plotly-graph-div\" style=\"height:525px; width:100%;\"></div>\n",
              "            <script type=\"text/javascript\">\n",
              "                \n",
              "                    window.PLOTLYENV=window.PLOTLYENV || {};\n",
              "                    \n",
              "                if (document.getElementById(\"a5a5a340-d31e-4912-bfe2-7797109791a7\")) {\n",
              "                    Plotly.newPlot(\n",
              "                        'a5a5a340-d31e-4912-bfe2-7797109791a7',\n",
              "                        [{\"hoverlabel\": {\"namelength\": 0}, \"hovertemplate\": \"Date=%{x}<br>Wounds=%{y}\", \"legendgroup\": \"\", \"line\": {\"color\": \"#636efa\"}, \"mode\": \"lines\", \"name\": \"\", \"orientation\": \"v\", \"showlegend\": false, \"stackgroup\": \"1\", \"type\": \"scatter\", \"x\": [\"1854-04-01\", \"1854-05-01\", \"1854-06-01\", \"1854-07-01\", \"1854-08-01\", \"1854-09-01\", \"1854-10-01\", \"1854-11-01\", \"1854-12-01\", \"1855-01-01\", \"1855-02-01\", \"1855-03-01\", \"1855-04-01\", \"1855-05-01\", \"1855-06-01\", \"1855-07-01\", \"1855-08-01\", \"1855-09-01\", \"1855-10-01\", \"1855-11-01\", \"1855-12-01\", \"1856-01-01\", \"1856-02-01\", \"1856-03-01\"], \"xaxis\": \"x\", \"y\": [0, 0, 0, 0, 1, 81, 132, 287, 114, 83, 42, 32, 48, 49, 209, 134, 164, 276, 53, 33, 18, 2, 0, 0], \"yaxis\": \"y\"}, {\"stackgroup\": \"one\", \"type\": \"scatter\", \"x\": [\"1854-04-01\", \"1854-05-01\", \"1854-06-01\", \"1854-07-01\", \"1854-08-01\", \"1854-09-01\", \"1854-10-01\", \"1854-11-01\", \"1854-12-01\", \"1855-01-01\", \"1855-02-01\", \"1855-03-01\", \"1855-04-01\", \"1855-05-01\", \"1855-06-01\", \"1855-07-01\", \"1855-08-01\", \"1855-09-01\", \"1855-10-01\", \"1855-11-01\", \"1855-12-01\", \"1856-01-01\", \"1856-02-01\", \"1856-03-01\"], \"y\": [-1, -12, -11, -359, -828, -788, -503, -844, -1725, -2761, -2120, -1205, -477, -508, -802, -382, -483, -189, -128, -178, -91, -42, -24, -15]}, {\"mode\": \"text\", \"text\": [\"After Sanitation Commission\"], \"type\": \"scatter\", \"x\": [\"1855-10-01\"], \"y\": [-1500]}, {\"mode\": \"text\", \"text\": [\"Before Sanitation Commission\"], \"type\": \"scatter\", \"x\": [\"1854-09-01\"], \"y\": [1000]}],\n",
              "                        {\"legend\": {\"tracegroupgap\": 0}, \"margin\": {\"t\": 60}, \"shapes\": [{\"line\": {\"color\": \"Red\", \"dash\": \"dot\", \"width\": 3}, \"type\": \"line\", \"x0\": \"1855-04-01\", \"x1\": \"1855-04-01\", \"y0\": -2900, \"y1\": 2000}], \"template\": {\"data\": {\"bar\": [{\"error_x\": {\"color\": \"#2a3f5f\"}, \"error_y\": {\"color\": \"#2a3f5f\"}, \"marker\": {\"line\": {\"color\": \"#E5ECF6\", \"width\": 0.5}}, \"type\": \"bar\"}], \"barpolar\": [{\"marker\": {\"line\": {\"color\": \"#E5ECF6\", \"width\": 0.5}}, \"type\": \"barpolar\"}], \"carpet\": [{\"aaxis\": {\"endlinecolor\": \"#2a3f5f\", \"gridcolor\": \"white\", \"linecolor\": \"white\", \"minorgridcolor\": \"white\", \"startlinecolor\": \"#2a3f5f\"}, \"baxis\": {\"endlinecolor\": \"#2a3f5f\", \"gridcolor\": \"white\", \"linecolor\": \"white\", \"minorgridcolor\": \"white\", \"startlinecolor\": \"#2a3f5f\"}, \"type\": \"carpet\"}], \"choropleth\": [{\"colorbar\": {\"outlinewidth\": 0, \"ticks\": \"\"}, \"type\": \"choropleth\"}], \"contour\": [{\"colorbar\": {\"outlinewidth\": 0, \"ticks\": \"\"}, \"colorscale\": [[0.0, \"#0d0887\"], [0.1111111111111111, \"#46039f\"], [0.2222222222222222, \"#7201a8\"], [0.3333333333333333, \"#9c179e\"], [0.4444444444444444, \"#bd3786\"], [0.5555555555555556, \"#d8576b\"], [0.6666666666666666, \"#ed7953\"], [0.7777777777777778, \"#fb9f3a\"], [0.8888888888888888, \"#fdca26\"], [1.0, \"#f0f921\"]], \"type\": \"contour\"}], \"contourcarpet\": [{\"colorbar\": {\"outlinewidth\": 0, \"ticks\": \"\"}, \"type\": \"contourcarpet\"}], \"heatmap\": [{\"colorbar\": {\"outlinewidth\": 0, \"ticks\": \"\"}, \"colorscale\": [[0.0, \"#0d0887\"], [0.1111111111111111, \"#46039f\"], [0.2222222222222222, \"#7201a8\"], [0.3333333333333333, \"#9c179e\"], [0.4444444444444444, \"#bd3786\"], [0.5555555555555556, \"#d8576b\"], [0.6666666666666666, \"#ed7953\"], [0.7777777777777778, \"#fb9f3a\"], [0.8888888888888888, \"#fdca26\"], [1.0, \"#f0f921\"]], \"type\": \"heatmap\"}], \"heatmapgl\": [{\"colorbar\": {\"outlinewidth\": 0, \"ticks\": \"\"}, \"colorscale\": [[0.0, \"#0d0887\"], [0.1111111111111111, \"#46039f\"], [0.2222222222222222, \"#7201a8\"], [0.3333333333333333, \"#9c179e\"], [0.4444444444444444, \"#bd3786\"], [0.5555555555555556, \"#d8576b\"], [0.6666666666666666, \"#ed7953\"], [0.7777777777777778, \"#fb9f3a\"], [0.8888888888888888, \"#fdca26\"], [1.0, \"#f0f921\"]], \"type\": \"heatmapgl\"}], \"histogram\": [{\"marker\": {\"colorbar\": {\"outlinewidth\": 0, \"ticks\": \"\"}}, \"type\": \"histogram\"}], \"histogram2d\": [{\"colorbar\": {\"outlinewidth\": 0, \"ticks\": \"\"}, \"colorscale\": [[0.0, \"#0d0887\"], [0.1111111111111111, \"#46039f\"], [0.2222222222222222, \"#7201a8\"], [0.3333333333333333, \"#9c179e\"], [0.4444444444444444, \"#bd3786\"], [0.5555555555555556, \"#d8576b\"], [0.6666666666666666, \"#ed7953\"], [0.7777777777777778, \"#fb9f3a\"], [0.8888888888888888, \"#fdca26\"], [1.0, \"#f0f921\"]], \"type\": \"histogram2d\"}], \"histogram2dcontour\": [{\"colorbar\": {\"outlinewidth\": 0, \"ticks\": \"\"}, \"colorscale\": [[0.0, \"#0d0887\"], [0.1111111111111111, \"#46039f\"], [0.2222222222222222, \"#7201a8\"], [0.3333333333333333, \"#9c179e\"], [0.4444444444444444, \"#bd3786\"], [0.5555555555555556, \"#d8576b\"], [0.6666666666666666, \"#ed7953\"], [0.7777777777777778, \"#fb9f3a\"], [0.8888888888888888, \"#fdca26\"], [1.0, \"#f0f921\"]], \"type\": \"histogram2dcontour\"}], \"mesh3d\": [{\"colorbar\": {\"outlinewidth\": 0, \"ticks\": \"\"}, \"type\": \"mesh3d\"}], \"parcoords\": [{\"line\": {\"colorbar\": {\"outlinewidth\": 0, \"ticks\": \"\"}}, \"type\": \"parcoords\"}], \"pie\": [{\"automargin\": true, \"type\": \"pie\"}], \"scatter\": [{\"marker\": {\"colorbar\": {\"outlinewidth\": 0, \"ticks\": \"\"}}, \"type\": \"scatter\"}], \"scatter3d\": [{\"line\": {\"colorbar\": {\"outlinewidth\": 0, \"ticks\": \"\"}}, \"marker\": {\"colorbar\": {\"outlinewidth\": 0, \"ticks\": \"\"}}, \"type\": \"scatter3d\"}], \"scattercarpet\": [{\"marker\": {\"colorbar\": {\"outlinewidth\": 0, \"ticks\": \"\"}}, \"type\": \"scattercarpet\"}], \"scattergeo\": [{\"marker\": {\"colorbar\": {\"outlinewidth\": 0, \"ticks\": \"\"}}, \"type\": \"scattergeo\"}], \"scattergl\": [{\"marker\": {\"colorbar\": {\"outlinewidth\": 0, \"ticks\": \"\"}}, \"type\": \"scattergl\"}], \"scattermapbox\": [{\"marker\": {\"colorbar\": {\"outlinewidth\": 0, \"ticks\": \"\"}}, \"type\": \"scattermapbox\"}], \"scatterpolar\": [{\"marker\": {\"colorbar\": {\"outlinewidth\": 0, \"ticks\": \"\"}}, \"type\": \"scatterpolar\"}], \"scatterpolargl\": [{\"marker\": {\"colorbar\": {\"outlinewidth\": 0, \"ticks\": \"\"}}, \"type\": \"scatterpolargl\"}], \"scatterternary\": [{\"marker\": {\"colorbar\": {\"outlinewidth\": 0, \"ticks\": \"\"}}, \"type\": \"scatterternary\"}], \"surface\": [{\"colorbar\": {\"outlinewidth\": 0, \"ticks\": \"\"}, \"colorscale\": [[0.0, \"#0d0887\"], [0.1111111111111111, \"#46039f\"], [0.2222222222222222, \"#7201a8\"], [0.3333333333333333, \"#9c179e\"], [0.4444444444444444, \"#bd3786\"], [0.5555555555555556, \"#d8576b\"], [0.6666666666666666, \"#ed7953\"], [0.7777777777777778, \"#fb9f3a\"], [0.8888888888888888, \"#fdca26\"], [1.0, \"#f0f921\"]], \"type\": \"surface\"}], \"table\": [{\"cells\": {\"fill\": {\"color\": \"#EBF0F8\"}, \"line\": {\"color\": \"white\"}}, \"header\": {\"fill\": {\"color\": \"#C8D4E3\"}, \"line\": {\"color\": \"white\"}}, \"type\": \"table\"}]}, \"layout\": {\"annotationdefaults\": {\"arrowcolor\": \"#2a3f5f\", \"arrowhead\": 0, \"arrowwidth\": 1}, \"coloraxis\": {\"colorbar\": {\"outlinewidth\": 0, \"ticks\": \"\"}}, \"colorscale\": {\"diverging\": [[0, \"#8e0152\"], [0.1, \"#c51b7d\"], [0.2, \"#de77ae\"], [0.3, \"#f1b6da\"], [0.4, \"#fde0ef\"], [0.5, \"#f7f7f7\"], [0.6, \"#e6f5d0\"], [0.7, \"#b8e186\"], [0.8, \"#7fbc41\"], [0.9, \"#4d9221\"], [1, \"#276419\"]], \"sequential\": [[0.0, \"#0d0887\"], [0.1111111111111111, \"#46039f\"], [0.2222222222222222, \"#7201a8\"], [0.3333333333333333, \"#9c179e\"], [0.4444444444444444, \"#bd3786\"], [0.5555555555555556, \"#d8576b\"], [0.6666666666666666, \"#ed7953\"], [0.7777777777777778, \"#fb9f3a\"], [0.8888888888888888, \"#fdca26\"], [1.0, \"#f0f921\"]], \"sequentialminus\": [[0.0, \"#0d0887\"], [0.1111111111111111, \"#46039f\"], [0.2222222222222222, \"#7201a8\"], [0.3333333333333333, \"#9c179e\"], [0.4444444444444444, \"#bd3786\"], [0.5555555555555556, \"#d8576b\"], [0.6666666666666666, \"#ed7953\"], [0.7777777777777778, \"#fb9f3a\"], [0.8888888888888888, \"#fdca26\"], [1.0, \"#f0f921\"]]}, \"colorway\": [\"#636efa\", \"#EF553B\", \"#00cc96\", \"#ab63fa\", \"#FFA15A\", \"#19d3f3\", \"#FF6692\", \"#B6E880\", \"#FF97FF\", \"#FECB52\"], \"font\": {\"color\": \"#2a3f5f\"}, \"geo\": {\"bgcolor\": \"white\", \"lakecolor\": \"white\", \"landcolor\": \"#E5ECF6\", \"showlakes\": true, \"showland\": true, \"subunitcolor\": \"white\"}, \"hoverlabel\": {\"align\": \"left\"}, \"hovermode\": \"closest\", \"mapbox\": {\"style\": \"light\"}, \"paper_bgcolor\": \"white\", \"plot_bgcolor\": \"#E5ECF6\", \"polar\": {\"angularaxis\": {\"gridcolor\": \"white\", \"linecolor\": \"white\", \"ticks\": \"\"}, \"bgcolor\": \"#E5ECF6\", \"radialaxis\": {\"gridcolor\": \"white\", \"linecolor\": \"white\", \"ticks\": \"\"}}, \"scene\": {\"xaxis\": {\"backgroundcolor\": \"#E5ECF6\", \"gridcolor\": \"white\", \"gridwidth\": 2, \"linecolor\": \"white\", \"showbackground\": true, \"ticks\": \"\", \"zerolinecolor\": \"white\"}, \"yaxis\": {\"backgroundcolor\": \"#E5ECF6\", \"gridcolor\": \"white\", \"gridwidth\": 2, \"linecolor\": \"white\", \"showbackground\": true, \"ticks\": \"\", \"zerolinecolor\": \"white\"}, \"zaxis\": {\"backgroundcolor\": \"#E5ECF6\", \"gridcolor\": \"white\", \"gridwidth\": 2, \"linecolor\": \"white\", \"showbackground\": true, \"ticks\": \"\", \"zerolinecolor\": \"white\"}}, \"shapedefaults\": {\"line\": {\"color\": \"#2a3f5f\"}}, \"ternary\": {\"aaxis\": {\"gridcolor\": \"white\", \"linecolor\": \"white\", \"ticks\": \"\"}, \"baxis\": {\"gridcolor\": \"white\", \"linecolor\": \"white\", \"ticks\": \"\"}, \"bgcolor\": \"#E5ECF6\", \"caxis\": {\"gridcolor\": \"white\", \"linecolor\": \"white\", \"ticks\": \"\"}}, \"title\": {\"x\": 0.05}, \"xaxis\": {\"automargin\": true, \"gridcolor\": \"white\", \"linecolor\": \"white\", \"ticks\": \"\", \"title\": {\"standoff\": 15}, \"zerolinecolor\": \"white\", \"zerolinewidth\": 2}, \"yaxis\": {\"automargin\": true, \"gridcolor\": \"white\", \"linecolor\": \"white\", \"ticks\": \"\", \"title\": {\"standoff\": 15}, \"zerolinecolor\": \"white\", \"zerolinewidth\": 2}}}, \"xaxis\": {\"anchor\": \"y\", \"domain\": [0.0, 1.0], \"title\": {\"text\": \"Date\"}}, \"yaxis\": {\"anchor\": \"x\", \"domain\": [0.0, 1.0], \"range\": [-2900, 2000], \"title\": {\"text\": \"Wounds\"}}},\n",
              "                        {\"responsive\": true}\n",
              "                    ).then(function(){\n",
              "                            \n",
              "var gd = document.getElementById('a5a5a340-d31e-4912-bfe2-7797109791a7');\n",
              "var x = new MutationObserver(function (mutations, observer) {{\n",
              "        var display = window.getComputedStyle(gd).display;\n",
              "        if (!display || display === 'none') {{\n",
              "            console.log([gd, 'removed!']);\n",
              "            Plotly.purge(gd);\n",
              "            observer.disconnect();\n",
              "        }}\n",
              "}});\n",
              "\n",
              "// Listen for the removal of the full notebook cells\n",
              "var notebookContainer = gd.closest('#notebook-container');\n",
              "if (notebookContainer) {{\n",
              "    x.observe(notebookContainer, {childList: true});\n",
              "}}\n",
              "\n",
              "// Listen for the clearing of the current output cell\n",
              "var outputEl = gd.closest('.output');\n",
              "if (outputEl) {{\n",
              "    x.observe(outputEl, {childList: true});\n",
              "}}\n",
              "\n",
              "                        })\n",
              "                };\n",
              "                \n",
              "            </script>\n",
              "        </div>\n",
              "</body>\n",
              "</html>"
            ]
          },
          "metadata": {
            "tags": []
          }
        }
      ]
    },
    {
      "cell_type": "markdown",
      "metadata": {
        "id": "G_ohyDgtJAzr"
      },
      "source": [
        "**Thoughts**\n",
        "\n",
        "A play on draft 1, I tried flipping the data so that I could better show the discrepency between disease and wounds, and in fact this did bring to attention just how significantly different the two values were. But it still felt inadequate, I wasn't really draw to the graphic and Nightingale's coxcomb still makes this visualizstion obsolete. "
      ]
    },
    {
      "cell_type": "markdown",
      "metadata": {
        "id": "TcRwIhUf5Jwz"
      },
      "source": [
        "### **Final Version: The Crimean War Zoomed Out**\n",
        "\n",
        "---\n",
        "\n"
      ]
    },
    {
      "cell_type": "code",
      "metadata": {
        "colab": {
          "base_uri": "https://localhost:8080/",
          "height": 542
        },
        "id": "4BRPXTvT8fmm",
        "outputId": "ada9245b-cd26-49e7-b272-697274a1b196"
      },
      "source": [
        "# And so this version was the one I ultimately decided on.\n",
        "# I used to idea of negative values to show a up and down area chart, but instead of the hidden costs of war, I tweaked it so that the army numbers filled the screen.\n",
        "# What resulted was a graph that was the polar opposite of Nightingale's coxcomb, completely diminishing the effects of her data.\n",
        "\n",
        "fig4 = go.Figure()\n",
        "\n",
        "# Adding Disease Data\n",
        "fig4.add_trace(go.Scatter(x = df2[\"Date\"], \n",
        "                          y = df2[\"Disease\"], \n",
        "                          stackgroup='one', \n",
        "                          name = \"Disease Mortality\",\n",
        "                          line=dict(width=0.5, \n",
        "                                    color='#dfb225')))\n",
        "\n",
        "# Adding Wounds Data\n",
        "fig4.add_trace(go.Scatter(x = df2['Date'], \n",
        "                          y = df2['Wounds'], \n",
        "                          stackgroup='two', \n",
        "                          name = \"Wounds Mortality\",\n",
        "                          line=dict(width=2, \n",
        "                                    color='#c8102e')))\n",
        "\n",
        "# Adding Army Data\n",
        "fig4.add_trace(go.Scatter(x = df5['Date'], \n",
        "                          y = df5['Army'], \n",
        "                          stackgroup='three', \n",
        "                          name = \"Actual Army Size\",\n",
        "                          line=dict(width=0.5, \n",
        "                                    color=\"#001f7e\")))\n",
        "\n",
        "# Adding Hypothetical Non-Diseased Army Data\n",
        "fig4.add_trace(go.Scatter(x = df5['Date'], \n",
        "                          y = df5['Non_Diseased_Army'], \n",
        "                          name = \"Hypothetical Non-Diseased Army Size\",\n",
        "                          line_color = \"#002cb1\"))\n",
        "\n",
        "# Adding Sanitary Commission Before and After Line\n",
        "fig4.add_shape(type=\"line\",\n",
        "              x0 = \"1855-04-01\", y0 = -50000, \n",
        "               x1 = \"1855-04-01\", y1 = 20000,\n",
        "              line=dict(color=\"crimson\",width=3, dash=\"dot\"))\n",
        "\n",
        "# Adding Wounds Line\n",
        "fig4.add_shape(type=\"line\",\n",
        "              x0 = \"1854-11-01\", y0 = -50000, \n",
        "               x1 = \"1854-11-01\", y1 = 0,\n",
        "              line=dict(color=\"crimson\",width=1, dash=\"dot\"))\n",
        "\n",
        "# Adding Disease Line\n",
        "fig4.add_shape(type=\"line\",\n",
        "              x0 = \"1855-01-01\", y0 = -50000, \n",
        "               x1 = \"1855-01-01\", y1 = 2781,\n",
        "              line=dict(color=\"#dfb225\",width=1, dash=\"dot\"))\n",
        "\n",
        "# Adding Initial Encounter Line\n",
        "fig4.add_shape(type=\"line\",\n",
        "              x0 = \"1854-09-01\", y0 = 0, \n",
        "              x1 = \"1854-09-01\", y1 = -50000,\n",
        "              line=dict(color=\"black\",width=1, dash=\"dot\"))\n",
        "\n",
        "# Adding Charge of the Light Brigade Line\n",
        "fig4.add_shape(type=\"line\",\n",
        "              x0 = \"1854-10-01\", y0 = -50000, \n",
        "               x1 = \"1854-10-01\", y1 = 0,\n",
        "              line=dict(color=\"black\",width=1, dash=\"dot\"))\n",
        "\n",
        "# Adding Battle of Eupatoria Line\n",
        "fig4.add_shape(type=\"line\",\n",
        "              x0 = \"1855-02-01\", y0 = -50000, \n",
        "               x1 = \"1855-02-01\", y1 = 0,\n",
        "              line=dict(color=\"black\",width=1, dash=\"dot\"))\n",
        "\n",
        "# Adding First Russian Attack at Kars Line\n",
        "fig4.add_shape(type=\"line\",\n",
        "              x0 = \"1855-06-01\", y0 = -50000, \n",
        "               x1 = \"1855-06-01\", y1 = 0,\n",
        "              line=dict(color=\"black\",width=1, dash=\"dot\"))\n",
        "\n",
        "# Adding Battle of Chernaya Line\n",
        "fig4.add_shape(type=\"line\",\n",
        "              x0 = \"1855-08-01\", y0 = -50000, \n",
        "               x1 = \"1855-08-01\", y1 = 0,\n",
        "              line=dict(color=\"black\",width=1, dash=\"dot\"))\n",
        "\n",
        "# Adding Surrender of Kars Line\n",
        "fig4.add_shape(type=\"line\",\n",
        "              x0 = \"1855-11-01\", y0 = -50000, \n",
        "               x1 = \"1855-11-01\", y1 = 0,\n",
        "              line=dict(color=\"#c8102e\",width=1, dash=\"dot\"))\n",
        "\n",
        "# Paris Peace Conference Line\n",
        "fig4.add_shape(type=\"line\",\n",
        "              x0 = \"1856-02-01\", y0 = -50000, \n",
        "               x1 = \"1856-02-01\", y1 = 0,\n",
        "              line=dict(color=\"black\",width=1, dash=\"dot\"))\n",
        "\n",
        "# Adding Disease Mortality Rate Annotation\n",
        "fig4.add_annotation(x=\"1855-01-01\", y=2900,\n",
        "            text=\"8.5% Disease Mortality Rate\",\n",
        "            showarrow=True,\n",
        "            arrowhead=1,\n",
        "            arrowcolor=\"#dfb225\",\n",
        "            font=dict(\n",
        "                family=\"Parchment\",\n",
        "                size=12,\n",
        "                color=\"#dfb225\"))\n",
        "\n",
        "# Adding Wounds Mortality Rate Annotation\n",
        "fig4.add_annotation(x=\"1854-11-01\", y=287,\n",
        "            text=\"1% Wounds Mortality Rate\",\n",
        "            showarrow=True,\n",
        "            arrowhead=1,\n",
        "            ax=-90,\n",
        "            ay=-20,\n",
        "            arrowcolor=\"#c8102e\",\n",
        "            font=dict(\n",
        "                family=\"Parchment\",\n",
        "                size=12,\n",
        "                color=\"#c8102e\"))\n",
        "\n",
        "# Adding Sanitation Commission Begins Annotation\n",
        "fig4.add_annotation(x=\"1855-04-01\", y=0,\n",
        "            text=\"Sanitation Commission Begins\",\n",
        "            showarrow=True,\n",
        "            arrowhead=1,\n",
        "            arrowcolor=\"#b7b7b7\",\n",
        "            ax=90,\n",
        "            ay=30,\n",
        "            bgcolor=\"#b7b7b7\",\n",
        "            font=dict(\n",
        "                family=\"Parchment\",\n",
        "                size=12,\n",
        "                color=\"black\"))\n",
        "\n",
        "# Adding Initial Encounter Annotation\n",
        "fig4.add_annotation(x=\"1854-09-01\", y=-30290,\n",
        "            text=\"Initial Encounter\",\n",
        "            showarrow=True,\n",
        "            arrowhead=1,\n",
        "            ax=-50,\n",
        "            ay=30,\n",
        "            bgcolor='white',\n",
        "            font=dict(\n",
        "                family=\"Parchment\",\n",
        "                size=12,\n",
        "                color=\"black\"))\n",
        "\n",
        "# Adding Charge of the Light Brigade Annotation\n",
        "fig4.add_annotation(x=\"1854-10-01\", y=-30643,\n",
        "            text=\"Charge of the Light Brigade\",\n",
        "            showarrow=True,\n",
        "            arrowhead=1,\n",
        "            ax=-20, \n",
        "            ay=-50, \n",
        "            bgcolor='white',\n",
        "            font=dict(\n",
        "                family=\"Parchment\",\n",
        "                size=12,\n",
        "                color=\"black\"))\n",
        "\n",
        "# Adding Nightingale Sets Off Annotation\n",
        "fig4.add_annotation(x=\"1854-10-01\", y=0,\n",
        "            text=\"Nightingale Sets Off\",\n",
        "            showarrow=True,\n",
        "            arrowhead=1,\n",
        "            arrowcolor=\"#b7b7b7\",\n",
        "            ax=-20,\n",
        "            ay=30,\n",
        "            bgcolor=\"#b7b7b7\",\n",
        "            font=dict(\n",
        "                family=\"Parchment\",\n",
        "                size=12,\n",
        "                color=\"black\"))\n",
        "\n",
        "# Adding Nightingale Arrives Annotation\n",
        "fig4.add_annotation(x=\"1854-11-01\", y=0,\n",
        "            text=\"Nightingale Arrives\",\n",
        "            showarrow=True,\n",
        "            arrowhead=1,\n",
        "            arrowcolor=\"#b7b7b7\",\n",
        "            ax=50,\n",
        "            ay=30,\n",
        "            bgcolor=\"#b7b7b7\",\n",
        "            font=dict(\n",
        "                family=\"Parchment\",\n",
        "                size=12,\n",
        "                color=\"black\"))\n",
        "\n",
        "# Adding Battle of Inkerton Annotation\n",
        "fig4.add_annotation(x=\"1854-11-01\", y=-29736,\n",
        "            text=\"Battle of Inkerton\",\n",
        "            showarrow=True,\n",
        "            arrowhead=1,\n",
        "            ax=-30,\n",
        "            ay=40,\n",
        "            bgcolor='white',\n",
        "            font=dict(\n",
        "                family=\"Parchment\",\n",
        "                size=12,\n",
        "                color=\"black\"))\n",
        "\n",
        "\n",
        "# Adding Battle of Eupatoria Annotation\n",
        "fig4.add_annotation(x=\"1855-02-01\", y=-30919,\n",
        "            text=\"Battle of Eupatoria\",\n",
        "            showarrow=True,\n",
        "            arrowhead=1,\n",
        "            ax=-30,\n",
        "            ay=40,\n",
        "            font=dict(\n",
        "                family=\"Parchment\",\n",
        "                size=12,\n",
        "                color=\"black\"))\n",
        "\n",
        "# Adding First Russian Attack at Kars Annotation\n",
        "fig4.add_annotation(x=\"1855-06-01\", y=-38863,\n",
        "            text=\"First Russian Attack at Kars\",\n",
        "            showarrow=True,\n",
        "            arrowhead=1,\n",
        "            ax=-20,\n",
        "            ay=35,\n",
        "            bgcolor=\"white\",\n",
        "            font=dict(\n",
        "                family=\"Parchment\",\n",
        "                size=12,\n",
        "                color=\"black\"))\n",
        "\n",
        "# Adding Battle of Chernaya Annotation\n",
        "fig4.add_annotation(x=\"1855-08-01\", y=-44641,\n",
        "            text=\"Battle of Chernaya\",\n",
        "            showarrow=True,\n",
        "            arrowhead=1,\n",
        "            ax=50,\n",
        "            ay=-30,\n",
        "            bgcolor=\"white\",\n",
        "            font=dict(\n",
        "                family=\"Parchment\",\n",
        "                size=12,\n",
        "                color=\"black\"))\n",
        "\n",
        "# Adding Surrender of Kars Annotation\n",
        "fig4.add_annotation(x=\"1855-11-01\", y=-37853,\n",
        "            text=\"Surrender of Kars\",\n",
        "            showarrow=True,\n",
        "            arrowhead=1,\n",
        "            ax=40,\n",
        "            ay=45,\n",
        "            bgcolor=\"white\",\n",
        "            font=dict(\n",
        "                family=\"Parchment\",\n",
        "                size=12,\n",
        "                color=\"black\"))\n",
        "\n",
        "# Adding Kars Wounds Mortality Rate Annotation\n",
        "fig4.add_annotation(x=\"1855-11-01\", y=33,\n",
        "            text=\"0.09% Wounds Mortality Rate\",\n",
        "            showarrow=True,\n",
        "            arrowhead=1,\n",
        "            ax=-90,\n",
        "            ay=-20,\n",
        "            arrowcolor=\"#c8102e\",\n",
        "            font=dict(\n",
        "                family=\"Parchment\",\n",
        "                size=12,\n",
        "                color=\"#c8102e\"))\n",
        "\n",
        "# Adding Paris Peace Conference Annotation\n",
        "fig4.add_annotation(x=\"1856-02-01\", y=-43485,\n",
        "            text=\"Paris Peace Conference\",\n",
        "            showarrow=True,\n",
        "            arrowhead=1,\n",
        "            ax=-10,\n",
        "            ay=-30,\n",
        "            bgcolor=\"white\",\n",
        "            font=dict(\n",
        "                family=\"Parchment\",\n",
        "                size=12,\n",
        "                color=\"royalblue\"))\n",
        "\n",
        "# Updating Y Axis\n",
        "fig4.update_yaxes(range=[-50000,20000],\n",
        "                  showgrid = False,\n",
        "                  ticks=\"outside\",\n",
        "                  showline=True, \n",
        "                  linewidth=2, \n",
        "                  linecolor='black',\n",
        "                  tickcolor='#5a564d')\n",
        "\n",
        "# Updating X Axis\n",
        "fig4.update_xaxes(showgrid=False,\n",
        "                  showline=True, \n",
        "                  linewidth=2, \n",
        "                  linecolor='black',\n",
        "                  dtick=\"M1\",\n",
        "                  tickformat=\"%b\\n%Y\",)\n",
        "\n",
        "# Layout Stuff\n",
        "\n",
        "##Ticks Setup\n",
        "ticks = [20000, 10000, 0, -10000, -20000, -30000, -40000]\n",
        "ticktext = ['$\\\\color{royalblue}{20k}$','$\\\\color{royalblue}{10k}$','$\\\\color{black}{0}$','$\\\\color{crimson}{10k}$','$\\\\color{crimson}{20k}$','$\\\\color{crimson}{30k}$','$\\\\color{crimson}{40k}$']\n",
        "## End Ticks Setup\n",
        "\n",
        "fig4.update_layout(\n",
        "    title='The Crimean War Zoomed Out',\n",
        "    font_size=12,\n",
        "    legend=dict(\n",
        "        orientation=\"h\",\n",
        "        yanchor=\"bottom\",\n",
        "        y=1.02,\n",
        "        xanchor=\"right\",\n",
        "        x=1),\n",
        "    yaxis=dict(tickmode='array', ticktext=ticktext, tickvals=ticks)\n",
        ")\n",
        "\n",
        "# Add Image\n",
        "fig4.add_layout_image(\n",
        "    dict(\n",
        "        source=\"https://upload.wikimedia.org/wikipedia/commons/thumb/2/24/British_Army_crest.svg/1200px-British_Army_crest.svg.png\",\n",
        "        xref=\"paper\", yref=\"paper\",\n",
        "        x=0.8, y=0.25,\n",
        "        sizex=0.2, sizey=0.2,\n",
        "        xanchor=\"right\", yanchor=\"bottom\"\n",
        "    )\n",
        ")\n",
        "\n",
        "#fig4.update_layout(paper_bgcolor=\"#c6c6c6\")\n",
        "fig4.update_layout(plot_bgcolor=\"#ffffff\")\n",
        "\n",
        "fig4.show()\n",
        "\n",
        "# Ultimately, I wanted to also add in a timeline of sorts, showing here are the army numbers at the time of critical events in the Crimean War.\n",
        "# Also here are line linking upwards so you can see what the disease and wounds rate was at the time.\n",
        "# Also this is when Nightingale Arrives!\n",
        "# Adding in some historic context, and I also wanted to see what that weird dip in army numbers was in Nov 1855. "
      ],
      "execution_count": 25,
      "outputs": [
        {
          "output_type": "display_data",
          "data": {
            "text/html": [
              "<html>\n",
              "<head><meta charset=\"utf-8\" /></head>\n",
              "<body>\n",
              "    <div>\n",
              "            <script src=\"https://cdnjs.cloudflare.com/ajax/libs/mathjax/2.7.5/MathJax.js?config=TeX-AMS-MML_SVG\"></script><script type=\"text/javascript\">if (window.MathJax) {MathJax.Hub.Config({SVG: {font: \"STIX-Web\"}});}</script>\n",
              "                <script type=\"text/javascript\">window.PlotlyConfig = {MathJaxConfig: 'local'};</script>\n",
              "        <script src=\"https://cdn.plot.ly/plotly-latest.min.js\"></script>    \n",
              "            <div id=\"77ce6f09-a8b3-4577-bb20-d1a13cd73380\" class=\"plotly-graph-div\" style=\"height:525px; width:100%;\"></div>\n",
              "            <script type=\"text/javascript\">\n",
              "                \n",
              "                    window.PLOTLYENV=window.PLOTLYENV || {};\n",
              "                    \n",
              "                if (document.getElementById(\"77ce6f09-a8b3-4577-bb20-d1a13cd73380\")) {\n",
              "                    Plotly.newPlot(\n",
              "                        '77ce6f09-a8b3-4577-bb20-d1a13cd73380',\n",
              "                        [{\"line\": {\"color\": \"#dfb225\", \"width\": 0.5}, \"name\": \"Disease Mortality\", \"stackgroup\": \"one\", \"type\": \"scatter\", \"x\": [\"1854-04-01\", \"1854-05-01\", \"1854-06-01\", \"1854-07-01\", \"1854-08-01\", \"1854-09-01\", \"1854-10-01\", \"1854-11-01\", \"1854-12-01\", \"1855-01-01\", \"1855-02-01\", \"1855-03-01\", \"1855-04-01\", \"1855-05-01\", \"1855-06-01\", \"1855-07-01\", \"1855-08-01\", \"1855-09-01\", \"1855-10-01\", \"1855-11-01\", \"1855-12-01\", \"1856-01-01\", \"1856-02-01\", \"1856-03-01\"], \"y\": [1, 12, 11, 359, 828, 788, 503, 844, 1725, 2761, 2120, 1205, 477, 508, 802, 382, 483, 189, 128, 178, 91, 42, 24, 15]}, {\"line\": {\"color\": \"#c8102e\", \"width\": 2}, \"name\": \"Wounds Mortality\", \"stackgroup\": \"two\", \"type\": \"scatter\", \"x\": [\"1854-04-01\", \"1854-05-01\", \"1854-06-01\", \"1854-07-01\", \"1854-08-01\", \"1854-09-01\", \"1854-10-01\", \"1854-11-01\", \"1854-12-01\", \"1855-01-01\", \"1855-02-01\", \"1855-03-01\", \"1855-04-01\", \"1855-05-01\", \"1855-06-01\", \"1855-07-01\", \"1855-08-01\", \"1855-09-01\", \"1855-10-01\", \"1855-11-01\", \"1855-12-01\", \"1856-01-01\", \"1856-02-01\", \"1856-03-01\"], \"y\": [0, 0, 0, 0, 1, 81, 132, 287, 114, 83, 42, 32, 48, 49, 209, 134, 164, 276, 53, 33, 18, 2, 0, 0]}, {\"line\": {\"color\": \"#001f7e\", \"width\": 0.5}, \"name\": \"Actual Army Size\", \"stackgroup\": \"three\", \"type\": \"scatter\", \"x\": [\"1854-04-01\", \"1854-05-01\", \"1854-06-01\", \"1854-07-01\", \"1854-08-01\", \"1854-09-01\", \"1854-10-01\", \"1854-11-01\", \"1854-12-01\", \"1855-01-01\", \"1855-02-01\", \"1855-03-01\", \"1855-04-01\", \"1855-05-01\", \"1855-06-01\", \"1855-07-01\", \"1855-08-01\", \"1855-09-01\", \"1855-10-01\", \"1855-11-01\", \"1855-12-01\", \"1856-01-01\", \"1856-02-01\", \"1856-03-01\"], \"y\": [-8571, -23333, -28333, -28722, -30246, -30290, -30643, -29736, -32779, -32393, -30919, -30107, -32252, -35473, -38863, -42647, -44614, -47751, -46852, -37853, -43217, -44212, -43485, -46140]}, {\"line\": {\"color\": \"#002cb1\"}, \"name\": \"Hypothetical Non-Diseased Army Size\", \"type\": \"scatter\", \"x\": [\"1854-04-01\", \"1854-05-01\", \"1854-06-01\", \"1854-07-01\", \"1854-08-01\", \"1854-09-01\", \"1854-10-01\", \"1854-11-01\", \"1854-12-01\", \"1855-01-01\", \"1855-02-01\", \"1855-03-01\", \"1855-04-01\", \"1855-05-01\", \"1855-06-01\", \"1855-07-01\", \"1855-08-01\", \"1855-09-01\", \"1855-10-01\", \"1855-11-01\", \"1855-12-01\", \"1856-01-01\", \"1856-02-01\", \"1856-03-01\"], \"y\": [-8572, -23345, -28344, -29081, -31074, -31078, -31146, -30580, -34504, -35154, -33039, -31312, -32729, -35981, -39665, -43029, -45097, -47940, -46980, -38031, -43308, -44254, -43509, -46155]}],\n",
              "                        {\"annotations\": [{\"arrowcolor\": \"#dfb225\", \"arrowhead\": 1, \"font\": {\"color\": \"#dfb225\", \"family\": \"Parchment\", \"size\": 12}, \"showarrow\": true, \"text\": \"8.5% Disease Mortality Rate\", \"x\": \"1855-01-01\", \"y\": 2900}, {\"arrowcolor\": \"#c8102e\", \"arrowhead\": 1, \"ax\": -90, \"ay\": -20, \"font\": {\"color\": \"#c8102e\", \"family\": \"Parchment\", \"size\": 12}, \"showarrow\": true, \"text\": \"1% Wounds Mortality Rate\", \"x\": \"1854-11-01\", \"y\": 287}, {\"arrowcolor\": \"#b7b7b7\", \"arrowhead\": 1, \"ax\": 90, \"ay\": 30, \"bgcolor\": \"#b7b7b7\", \"font\": {\"color\": \"black\", \"family\": \"Parchment\", \"size\": 12}, \"showarrow\": true, \"text\": \"Sanitation Commission Begins\", \"x\": \"1855-04-01\", \"y\": 0}, {\"arrowhead\": 1, \"ax\": -50, \"ay\": 30, \"bgcolor\": \"white\", \"font\": {\"color\": \"black\", \"family\": \"Parchment\", \"size\": 12}, \"showarrow\": true, \"text\": \"Initial Encounter\", \"x\": \"1854-09-01\", \"y\": -30290}, {\"arrowhead\": 1, \"ax\": -20, \"ay\": -50, \"bgcolor\": \"white\", \"font\": {\"color\": \"black\", \"family\": \"Parchment\", \"size\": 12}, \"showarrow\": true, \"text\": \"Charge of the Light Brigade\", \"x\": \"1854-10-01\", \"y\": -30643}, {\"arrowcolor\": \"#b7b7b7\", \"arrowhead\": 1, \"ax\": -20, \"ay\": 30, \"bgcolor\": \"#b7b7b7\", \"font\": {\"color\": \"black\", \"family\": \"Parchment\", \"size\": 12}, \"showarrow\": true, \"text\": \"Nightingale Sets Off\", \"x\": \"1854-10-01\", \"y\": 0}, {\"arrowcolor\": \"#b7b7b7\", \"arrowhead\": 1, \"ax\": 50, \"ay\": 30, \"bgcolor\": \"#b7b7b7\", \"font\": {\"color\": \"black\", \"family\": \"Parchment\", \"size\": 12}, \"showarrow\": true, \"text\": \"Nightingale Arrives\", \"x\": \"1854-11-01\", \"y\": 0}, {\"arrowhead\": 1, \"ax\": -30, \"ay\": 40, \"bgcolor\": \"white\", \"font\": {\"color\": \"black\", \"family\": \"Parchment\", \"size\": 12}, \"showarrow\": true, \"text\": \"Battle of Inkerton\", \"x\": \"1854-11-01\", \"y\": -29736}, {\"arrowhead\": 1, \"ax\": -30, \"ay\": 40, \"font\": {\"color\": \"black\", \"family\": \"Parchment\", \"size\": 12}, \"showarrow\": true, \"text\": \"Battle of Eupatoria\", \"x\": \"1855-02-01\", \"y\": -30919}, {\"arrowhead\": 1, \"ax\": -20, \"ay\": 35, \"bgcolor\": \"white\", \"font\": {\"color\": \"black\", \"family\": \"Parchment\", \"size\": 12}, \"showarrow\": true, \"text\": \"First Russian Attack at Kars\", \"x\": \"1855-06-01\", \"y\": -38863}, {\"arrowhead\": 1, \"ax\": 50, \"ay\": -30, \"bgcolor\": \"white\", \"font\": {\"color\": \"black\", \"family\": \"Parchment\", \"size\": 12}, \"showarrow\": true, \"text\": \"Battle of Chernaya\", \"x\": \"1855-08-01\", \"y\": -44641}, {\"arrowhead\": 1, \"ax\": 40, \"ay\": 45, \"bgcolor\": \"white\", \"font\": {\"color\": \"black\", \"family\": \"Parchment\", \"size\": 12}, \"showarrow\": true, \"text\": \"Surrender of Kars\", \"x\": \"1855-11-01\", \"y\": -37853}, {\"arrowcolor\": \"#c8102e\", \"arrowhead\": 1, \"ax\": -90, \"ay\": -20, \"font\": {\"color\": \"#c8102e\", \"family\": \"Parchment\", \"size\": 12}, \"showarrow\": true, \"text\": \"0.09% Wounds Mortality Rate\", \"x\": \"1855-11-01\", \"y\": 33}, {\"arrowhead\": 1, \"ax\": -10, \"ay\": -30, \"bgcolor\": \"white\", \"font\": {\"color\": \"royalblue\", \"family\": \"Parchment\", \"size\": 12}, \"showarrow\": true, \"text\": \"Paris Peace Conference\", \"x\": \"1856-02-01\", \"y\": -43485}], \"font\": {\"size\": 12}, \"images\": [{\"sizex\": 0.2, \"sizey\": 0.2, \"source\": \"https://upload.wikimedia.org/wikipedia/commons/thumb/2/24/British_Army_crest.svg/1200px-British_Army_crest.svg.png\", \"x\": 0.8, \"xanchor\": \"right\", \"xref\": \"paper\", \"y\": 0.25, \"yanchor\": \"bottom\", \"yref\": \"paper\"}], \"legend\": {\"orientation\": \"h\", \"x\": 1, \"xanchor\": \"right\", \"y\": 1.02, \"yanchor\": \"bottom\"}, \"plot_bgcolor\": \"#ffffff\", \"shapes\": [{\"line\": {\"color\": \"crimson\", \"dash\": \"dot\", \"width\": 3}, \"type\": \"line\", \"x0\": \"1855-04-01\", \"x1\": \"1855-04-01\", \"y0\": -50000, \"y1\": 20000}, {\"line\": {\"color\": \"crimson\", \"dash\": \"dot\", \"width\": 1}, \"type\": \"line\", \"x0\": \"1854-11-01\", \"x1\": \"1854-11-01\", \"y0\": -50000, \"y1\": 0}, {\"line\": {\"color\": \"#dfb225\", \"dash\": \"dot\", \"width\": 1}, \"type\": \"line\", \"x0\": \"1855-01-01\", \"x1\": \"1855-01-01\", \"y0\": -50000, \"y1\": 2781}, {\"line\": {\"color\": \"black\", \"dash\": \"dot\", \"width\": 1}, \"type\": \"line\", \"x0\": \"1854-09-01\", \"x1\": \"1854-09-01\", \"y0\": 0, \"y1\": -50000}, {\"line\": {\"color\": \"black\", \"dash\": \"dot\", \"width\": 1}, \"type\": \"line\", \"x0\": \"1854-10-01\", \"x1\": \"1854-10-01\", \"y0\": -50000, \"y1\": 0}, {\"line\": {\"color\": \"black\", \"dash\": \"dot\", \"width\": 1}, \"type\": \"line\", \"x0\": \"1855-02-01\", \"x1\": \"1855-02-01\", \"y0\": -50000, \"y1\": 0}, {\"line\": {\"color\": \"black\", \"dash\": \"dot\", \"width\": 1}, \"type\": \"line\", \"x0\": \"1855-06-01\", \"x1\": \"1855-06-01\", \"y0\": -50000, \"y1\": 0}, {\"line\": {\"color\": \"black\", \"dash\": \"dot\", \"width\": 1}, \"type\": \"line\", \"x0\": \"1855-08-01\", \"x1\": \"1855-08-01\", \"y0\": -50000, \"y1\": 0}, {\"line\": {\"color\": \"#c8102e\", \"dash\": \"dot\", \"width\": 1}, \"type\": \"line\", \"x0\": \"1855-11-01\", \"x1\": \"1855-11-01\", \"y0\": -50000, \"y1\": 0}, {\"line\": {\"color\": \"black\", \"dash\": \"dot\", \"width\": 1}, \"type\": \"line\", \"x0\": \"1856-02-01\", \"x1\": \"1856-02-01\", \"y0\": -50000, \"y1\": 0}], \"template\": {\"data\": {\"bar\": [{\"error_x\": {\"color\": \"#2a3f5f\"}, \"error_y\": {\"color\": \"#2a3f5f\"}, \"marker\": {\"line\": {\"color\": \"#E5ECF6\", \"width\": 0.5}}, \"type\": \"bar\"}], \"barpolar\": [{\"marker\": {\"line\": {\"color\": \"#E5ECF6\", \"width\": 0.5}}, \"type\": \"barpolar\"}], \"carpet\": [{\"aaxis\": {\"endlinecolor\": \"#2a3f5f\", \"gridcolor\": \"white\", \"linecolor\": \"white\", \"minorgridcolor\": \"white\", \"startlinecolor\": \"#2a3f5f\"}, \"baxis\": {\"endlinecolor\": \"#2a3f5f\", \"gridcolor\": \"white\", \"linecolor\": \"white\", \"minorgridcolor\": \"white\", \"startlinecolor\": \"#2a3f5f\"}, \"type\": \"carpet\"}], \"choropleth\": [{\"colorbar\": {\"outlinewidth\": 0, \"ticks\": \"\"}, \"type\": \"choropleth\"}], \"contour\": [{\"colorbar\": {\"outlinewidth\": 0, \"ticks\": \"\"}, \"colorscale\": [[0.0, \"#0d0887\"], [0.1111111111111111, \"#46039f\"], [0.2222222222222222, \"#7201a8\"], [0.3333333333333333, \"#9c179e\"], [0.4444444444444444, \"#bd3786\"], [0.5555555555555556, \"#d8576b\"], [0.6666666666666666, \"#ed7953\"], [0.7777777777777778, \"#fb9f3a\"], [0.8888888888888888, \"#fdca26\"], [1.0, \"#f0f921\"]], \"type\": \"contour\"}], \"contourcarpet\": [{\"colorbar\": {\"outlinewidth\": 0, \"ticks\": \"\"}, \"type\": \"contourcarpet\"}], \"heatmap\": [{\"colorbar\": {\"outlinewidth\": 0, \"ticks\": \"\"}, \"colorscale\": [[0.0, \"#0d0887\"], [0.1111111111111111, \"#46039f\"], [0.2222222222222222, \"#7201a8\"], [0.3333333333333333, \"#9c179e\"], [0.4444444444444444, \"#bd3786\"], [0.5555555555555556, \"#d8576b\"], [0.6666666666666666, \"#ed7953\"], [0.7777777777777778, \"#fb9f3a\"], [0.8888888888888888, \"#fdca26\"], [1.0, \"#f0f921\"]], \"type\": \"heatmap\"}], \"heatmapgl\": [{\"colorbar\": {\"outlinewidth\": 0, \"ticks\": \"\"}, \"colorscale\": [[0.0, \"#0d0887\"], [0.1111111111111111, \"#46039f\"], [0.2222222222222222, \"#7201a8\"], [0.3333333333333333, \"#9c179e\"], [0.4444444444444444, \"#bd3786\"], [0.5555555555555556, \"#d8576b\"], [0.6666666666666666, \"#ed7953\"], [0.7777777777777778, \"#fb9f3a\"], [0.8888888888888888, \"#fdca26\"], [1.0, \"#f0f921\"]], \"type\": \"heatmapgl\"}], \"histogram\": [{\"marker\": {\"colorbar\": {\"outlinewidth\": 0, \"ticks\": \"\"}}, \"type\": \"histogram\"}], \"histogram2d\": [{\"colorbar\": {\"outlinewidth\": 0, \"ticks\": \"\"}, \"colorscale\": [[0.0, \"#0d0887\"], [0.1111111111111111, \"#46039f\"], [0.2222222222222222, \"#7201a8\"], [0.3333333333333333, \"#9c179e\"], [0.4444444444444444, \"#bd3786\"], [0.5555555555555556, \"#d8576b\"], [0.6666666666666666, \"#ed7953\"], [0.7777777777777778, \"#fb9f3a\"], [0.8888888888888888, \"#fdca26\"], [1.0, \"#f0f921\"]], \"type\": \"histogram2d\"}], \"histogram2dcontour\": [{\"colorbar\": {\"outlinewidth\": 0, \"ticks\": \"\"}, \"colorscale\": [[0.0, \"#0d0887\"], [0.1111111111111111, \"#46039f\"], [0.2222222222222222, \"#7201a8\"], [0.3333333333333333, \"#9c179e\"], [0.4444444444444444, \"#bd3786\"], [0.5555555555555556, \"#d8576b\"], [0.6666666666666666, \"#ed7953\"], [0.7777777777777778, \"#fb9f3a\"], [0.8888888888888888, \"#fdca26\"], [1.0, \"#f0f921\"]], \"type\": \"histogram2dcontour\"}], \"mesh3d\": [{\"colorbar\": {\"outlinewidth\": 0, \"ticks\": \"\"}, \"type\": \"mesh3d\"}], \"parcoords\": [{\"line\": {\"colorbar\": {\"outlinewidth\": 0, \"ticks\": \"\"}}, \"type\": \"parcoords\"}], \"pie\": [{\"automargin\": true, \"type\": \"pie\"}], \"scatter\": [{\"marker\": {\"colorbar\": {\"outlinewidth\": 0, \"ticks\": \"\"}}, \"type\": \"scatter\"}], \"scatter3d\": [{\"line\": {\"colorbar\": {\"outlinewidth\": 0, \"ticks\": \"\"}}, \"marker\": {\"colorbar\": {\"outlinewidth\": 0, \"ticks\": \"\"}}, \"type\": \"scatter3d\"}], \"scattercarpet\": [{\"marker\": {\"colorbar\": {\"outlinewidth\": 0, \"ticks\": \"\"}}, \"type\": \"scattercarpet\"}], \"scattergeo\": [{\"marker\": {\"colorbar\": {\"outlinewidth\": 0, \"ticks\": \"\"}}, \"type\": \"scattergeo\"}], \"scattergl\": [{\"marker\": {\"colorbar\": {\"outlinewidth\": 0, \"ticks\": \"\"}}, \"type\": \"scattergl\"}], \"scattermapbox\": [{\"marker\": {\"colorbar\": {\"outlinewidth\": 0, \"ticks\": \"\"}}, \"type\": \"scattermapbox\"}], \"scatterpolar\": [{\"marker\": {\"colorbar\": {\"outlinewidth\": 0, \"ticks\": \"\"}}, \"type\": \"scatterpolar\"}], \"scatterpolargl\": [{\"marker\": {\"colorbar\": {\"outlinewidth\": 0, \"ticks\": \"\"}}, \"type\": \"scatterpolargl\"}], \"scatterternary\": [{\"marker\": {\"colorbar\": {\"outlinewidth\": 0, \"ticks\": \"\"}}, \"type\": \"scatterternary\"}], \"surface\": [{\"colorbar\": {\"outlinewidth\": 0, \"ticks\": \"\"}, \"colorscale\": [[0.0, \"#0d0887\"], [0.1111111111111111, \"#46039f\"], [0.2222222222222222, \"#7201a8\"], [0.3333333333333333, \"#9c179e\"], [0.4444444444444444, \"#bd3786\"], [0.5555555555555556, \"#d8576b\"], [0.6666666666666666, \"#ed7953\"], [0.7777777777777778, \"#fb9f3a\"], [0.8888888888888888, \"#fdca26\"], [1.0, \"#f0f921\"]], \"type\": \"surface\"}], \"table\": [{\"cells\": {\"fill\": {\"color\": \"#EBF0F8\"}, \"line\": {\"color\": \"white\"}}, \"header\": {\"fill\": {\"color\": \"#C8D4E3\"}, \"line\": {\"color\": \"white\"}}, \"type\": \"table\"}]}, \"layout\": {\"annotationdefaults\": {\"arrowcolor\": \"#2a3f5f\", \"arrowhead\": 0, \"arrowwidth\": 1}, \"coloraxis\": {\"colorbar\": {\"outlinewidth\": 0, \"ticks\": \"\"}}, \"colorscale\": {\"diverging\": [[0, \"#8e0152\"], [0.1, \"#c51b7d\"], [0.2, \"#de77ae\"], [0.3, \"#f1b6da\"], [0.4, \"#fde0ef\"], [0.5, \"#f7f7f7\"], [0.6, \"#e6f5d0\"], [0.7, \"#b8e186\"], [0.8, \"#7fbc41\"], [0.9, \"#4d9221\"], [1, \"#276419\"]], \"sequential\": [[0.0, \"#0d0887\"], [0.1111111111111111, \"#46039f\"], [0.2222222222222222, \"#7201a8\"], [0.3333333333333333, \"#9c179e\"], [0.4444444444444444, \"#bd3786\"], [0.5555555555555556, \"#d8576b\"], [0.6666666666666666, \"#ed7953\"], [0.7777777777777778, \"#fb9f3a\"], [0.8888888888888888, \"#fdca26\"], [1.0, \"#f0f921\"]], \"sequentialminus\": [[0.0, \"#0d0887\"], [0.1111111111111111, \"#46039f\"], [0.2222222222222222, \"#7201a8\"], [0.3333333333333333, \"#9c179e\"], [0.4444444444444444, \"#bd3786\"], [0.5555555555555556, \"#d8576b\"], [0.6666666666666666, \"#ed7953\"], [0.7777777777777778, \"#fb9f3a\"], [0.8888888888888888, \"#fdca26\"], [1.0, \"#f0f921\"]]}, \"colorway\": [\"#636efa\", \"#EF553B\", \"#00cc96\", \"#ab63fa\", \"#FFA15A\", \"#19d3f3\", \"#FF6692\", \"#B6E880\", \"#FF97FF\", \"#FECB52\"], \"font\": {\"color\": \"#2a3f5f\"}, \"geo\": {\"bgcolor\": \"white\", \"lakecolor\": \"white\", \"landcolor\": \"#E5ECF6\", \"showlakes\": true, \"showland\": true, \"subunitcolor\": \"white\"}, \"hoverlabel\": {\"align\": \"left\"}, \"hovermode\": \"closest\", \"mapbox\": {\"style\": \"light\"}, \"paper_bgcolor\": \"white\", \"plot_bgcolor\": \"#E5ECF6\", \"polar\": {\"angularaxis\": {\"gridcolor\": \"white\", \"linecolor\": \"white\", \"ticks\": \"\"}, \"bgcolor\": \"#E5ECF6\", \"radialaxis\": {\"gridcolor\": \"white\", \"linecolor\": \"white\", \"ticks\": \"\"}}, \"scene\": {\"xaxis\": {\"backgroundcolor\": \"#E5ECF6\", \"gridcolor\": \"white\", \"gridwidth\": 2, \"linecolor\": \"white\", \"showbackground\": true, \"ticks\": \"\", \"zerolinecolor\": \"white\"}, \"yaxis\": {\"backgroundcolor\": \"#E5ECF6\", \"gridcolor\": \"white\", \"gridwidth\": 2, \"linecolor\": \"white\", \"showbackground\": true, \"ticks\": \"\", \"zerolinecolor\": \"white\"}, \"zaxis\": {\"backgroundcolor\": \"#E5ECF6\", \"gridcolor\": \"white\", \"gridwidth\": 2, \"linecolor\": \"white\", \"showbackground\": true, \"ticks\": \"\", \"zerolinecolor\": \"white\"}}, \"shapedefaults\": {\"line\": {\"color\": \"#2a3f5f\"}}, \"ternary\": {\"aaxis\": {\"gridcolor\": \"white\", \"linecolor\": \"white\", \"ticks\": \"\"}, \"baxis\": {\"gridcolor\": \"white\", \"linecolor\": \"white\", \"ticks\": \"\"}, \"bgcolor\": \"#E5ECF6\", \"caxis\": {\"gridcolor\": \"white\", \"linecolor\": \"white\", \"ticks\": \"\"}}, \"title\": {\"x\": 0.05}, \"xaxis\": {\"automargin\": true, \"gridcolor\": \"white\", \"linecolor\": \"white\", \"ticks\": \"\", \"title\": {\"standoff\": 15}, \"zerolinecolor\": \"white\", \"zerolinewidth\": 2}, \"yaxis\": {\"automargin\": true, \"gridcolor\": \"white\", \"linecolor\": \"white\", \"ticks\": \"\", \"title\": {\"standoff\": 15}, \"zerolinecolor\": \"white\", \"zerolinewidth\": 2}}}, \"title\": {\"text\": \"The Crimean War Zoomed Out\"}, \"xaxis\": {\"dtick\": \"M1\", \"linecolor\": \"black\", \"linewidth\": 2, \"showgrid\": false, \"showline\": true, \"tickformat\": \"%b\\n%Y\"}, \"yaxis\": {\"linecolor\": \"black\", \"linewidth\": 2, \"range\": [-50000, 20000], \"showgrid\": false, \"showline\": true, \"tickcolor\": \"#5a564d\", \"tickmode\": \"array\", \"ticks\": \"outside\", \"ticktext\": [\"$\\\\color{royalblue}{20k}$\", \"$\\\\color{royalblue}{10k}$\", \"$\\\\color{black}{0}$\", \"$\\\\color{crimson}{10k}$\", \"$\\\\color{crimson}{20k}$\", \"$\\\\color{crimson}{30k}$\", \"$\\\\color{crimson}{40k}$\"], \"tickvals\": [20000, 10000, 0, -10000, -20000, -30000, -40000]}},\n",
              "                        {\"responsive\": true}\n",
              "                    ).then(function(){\n",
              "                            \n",
              "var gd = document.getElementById('77ce6f09-a8b3-4577-bb20-d1a13cd73380');\n",
              "var x = new MutationObserver(function (mutations, observer) {{\n",
              "        var display = window.getComputedStyle(gd).display;\n",
              "        if (!display || display === 'none') {{\n",
              "            console.log([gd, 'removed!']);\n",
              "            Plotly.purge(gd);\n",
              "            observer.disconnect();\n",
              "        }}\n",
              "}});\n",
              "\n",
              "// Listen for the removal of the full notebook cells\n",
              "var notebookContainer = gd.closest('#notebook-container');\n",
              "if (notebookContainer) {{\n",
              "    x.observe(notebookContainer, {childList: true});\n",
              "}}\n",
              "\n",
              "// Listen for the clearing of the current output cell\n",
              "var outputEl = gd.closest('.output');\n",
              "if (outputEl) {{\n",
              "    x.observe(outputEl, {childList: true});\n",
              "}}\n",
              "\n",
              "                        })\n",
              "                };\n",
              "                \n",
              "            </script>\n",
              "        </div>\n",
              "</body>\n",
              "</html>"
            ]
          },
          "metadata": {
            "tags": []
          }
        }
      ]
    },
    {
      "cell_type": "markdown",
      "metadata": {
        "id": "bnTIY66sJgyW"
      },
      "source": [
        "**Thoughts**\n",
        "\n",
        "So I combined everything. Noting the miniscule difference in diseaed vs non-diseased army size, I took that information and plotted it together with disease and wound fatality numbers. Rather than showing how important addressing the disease mortality rate was,  I show that as terrible as it was, it barely made a dent in the British Army's fighting force. Going left to right, I allow the users to trace the Crimean War's significant events, and reference the disease and wounds mortality rate for each event. I also added a second timeline on when Nightingale actually arrived and of course, when the Sanitation Commission Began. Overlaying everything was the hypothetical non-diseaed army size, showing what the army could have been at each significant battle. "
      ]
    },
    {
      "cell_type": "markdown",
      "metadata": {
        "id": "BgtHYEKw6Fzy"
      },
      "source": [
        "## **Discussion and Critiques**\n",
        "\n",
        "---\n",
        "\n",
        "**My redesign process:**\n",
        "\n",
        "I found it hard to top Nightingale's engagement. There was a  natural inclination towards using line graphs and bar charts but at the end of the day when I placed them next to the coxcomb, my eyes would just be drawn towards Nightingale's. Rather than competing, I needed to go at her data at another angle, one that takes a step back from Nightingale's circumstances. The end result is at you see. I made an infographic rather than a data visualization of \"Causes of Mortality.\" I wanted to provide a broader overview of the war, allowing the viewer to cross reference high disease/wound fatalities with what was happening in the Crimean War, and note all the interesting observations.\n",
        "\n",
        "Note: Timeline information was sourced from http://www.victorianweb.org/history/crimea/chron.html \n",
        "\n",
        "**Critiques**\n",
        "\n",
        "Which brings me to my critiques. Making this redesign made Nightingale's manipulation obvious. When I placed the amount of diseased deaths next to the overall army number, the war itself had ridiculously minor fatalities. While undoubtedly the Sanitary Commission reduced a significant amount of disease fatalities, I am now questioning just how much could be attributed to the Sanitary Commission and how those numbers related to actual fighting force of the British Army.\n",
        "\n",
        "Secondly, I noticed some oddities in regards to the actual course of the war. It looks like the Battle of Inkerton led to a large influx of disease fatalities but I couldn't find other notable events around that period. It was also interesting to note that Nightingale did not arrive until November 1854, in which she saw the rapid increase of disease fatalities. Surprisngly, there was no onset of diseases during the famouse Charge of the Light Brigade. It might be the combination of war and winter that led to the high number of disease fatalities. Notice that the Sanitary Commission came in the Summer, and by the next Winter, Kars was already surrendered and the Peace Conference was on the horizon. \n",
        "\n",
        "**Conclusion**\n",
        "\n",
        "The Crimean War is an odd one. There was a significantly low number of wound fatalities that has me questioning the validity of the data. The surrender of Kars showed a noticeable dip in soldier numbers yet there was barely any disease and wound fatalities. Where did all the soldiers go?\n",
        "It is also difficult to say with certainty that the Sanitary Commission actually worked! While we do not see any disease fatalities on the level of before the implementation of the commission, the commission also only came in when the disease fatalities were at a manageable number. For a persuasive piece, Nightingale's Coxcomb is amazing. But when we zoom out and look at the whole situation, there are strange gaps in Nightingale's story that leaves a lot to be desired. "
      ]
    }
  ]
}